{
 "cells": [
  {
   "cell_type": "code",
   "execution_count": 119,
   "metadata": {},
   "outputs": [],
   "source": [
    "import matplotlib.pyplot as plt\n",
    "%matplotlib inline\n",
    "import optuna\n",
    "import pandas as pd\n",
    "import numpy as np\n",
    "from graphviz import Digraph\n",
    "\n",
    "pd.set_option('display.max_columns', 200)\n",
    "pd.set_option('display.max_rows', 20)"
   ]
  },
  {
   "cell_type": "markdown",
   "metadata": {},
   "source": [
    "# Cteate study object"
   ]
  },
  {
   "cell_type": "code",
   "execution_count": 120,
   "metadata": {},
   "outputs": [
    {
     "name": "stderr",
     "output_type": "stream",
     "text": [
      "[I 2024-07-27 14:23:24,405] Using an existing study with name 'experiment01' instead of creating a new one.\n"
     ]
    },
    {
     "name": "stdout",
     "output_type": "stream",
     "text": [
      "/workspace\n"
     ]
    }
   ],
   "source": [
    "%cd /workspace/\n",
    "study = optuna.create_study(storage='sqlite:///result/optuna.db',\n",
    "                            study_name='experiment01',\n",
    "                            direction=\"minimize\",\n",
    "                            load_if_exists=True)"
   ]
  },
  {
   "cell_type": "markdown",
   "metadata": {},
   "source": [
    "# Watch"
   ]
  },
  {
   "cell_type": "code",
   "execution_count": 183,
   "metadata": {},
   "outputs": [
    {
     "data": {
      "application/vnd.plotly.v1+json": {
       "config": {
        "plotlyServerURL": "https://plot.ly"
       },
       "data": [
        {
         "marker": {
          "maxdisplayed": 10
         },
         "mode": "lines+markers",
         "name": "Trial0",
         "type": "scatter",
         "x": [
          1
         ],
         "y": [
          91.28
         ]
        },
        {
         "marker": {
          "maxdisplayed": 10
         },
         "mode": "lines+markers",
         "name": "Trial1",
         "type": "scatter",
         "x": [
          1,
          2,
          3,
          4
         ],
         "y": [
          90.83,
          82.27,
          77.83,
          74.76
         ]
        },
        {
         "marker": {
          "maxdisplayed": 10
         },
         "mode": "lines+markers",
         "name": "Trial2",
         "type": "scatter",
         "x": [
          1
         ],
         "y": [
          90.88
         ]
        },
        {
         "marker": {
          "maxdisplayed": 10
         },
         "mode": "lines+markers",
         "name": "Trial3",
         "type": "scatter",
         "x": [
          1,
          2
         ],
         "y": [
          90.88,
          83.94
         ]
        },
        {
         "marker": {
          "maxdisplayed": 10
         },
         "mode": "lines+markers",
         "name": "Trial4",
         "type": "scatter",
         "x": [
          1,
          2,
          3,
          4,
          5,
          6,
          7,
          8,
          9,
          10,
          11,
          12,
          13,
          14,
          15,
          16,
          17,
          18,
          19,
          20,
          21,
          22,
          23,
          24,
          25,
          26,
          27,
          28,
          29,
          30,
          31,
          32,
          33,
          34,
          35,
          36,
          37,
          38,
          39,
          40,
          41,
          42
         ],
         "y": [
          90.85,
          82.32,
          77.83,
          74.75,
          72.05,
          69.61,
          66.83,
          64.84,
          62.52,
          61.26,
          59.25,
          57.81,
          56.32,
          54.85,
          52.79,
          51.07,
          50.8,
          49.79,
          48.88,
          47.33,
          47.04,
          47.41,
          47.22,
          47.26,
          47.28,
          47.18,
          46.9,
          47.24,
          46.32,
          47.56,
          46.53,
          46.82,
          46.29,
          46.58,
          47.01,
          46.09,
          46.43,
          46.07,
          45.34,
          45.14,
          45.47,
          45.62
         ]
        },
        {
         "marker": {
          "maxdisplayed": 10
         },
         "mode": "lines+markers",
         "name": "Trial5",
         "type": "scatter",
         "x": [
          1
         ],
         "y": [
          94.37
         ]
        },
        {
         "marker": {
          "maxdisplayed": 10
         },
         "mode": "lines+markers",
         "name": "Trial6",
         "type": "scatter",
         "x": [
          1
         ],
         "y": [
          92.21
         ]
        },
        {
         "marker": {
          "maxdisplayed": 10
         },
         "mode": "lines+markers",
         "name": "Trial7",
         "type": "scatter",
         "x": [
          1
         ],
         "y": [
          90.91
         ]
        },
        {
         "marker": {
          "maxdisplayed": 10
         },
         "mode": "lines+markers",
         "name": "Trial8",
         "type": "scatter",
         "x": [
          1,
          2
         ],
         "y": [
          90.85,
          82.75
         ]
        },
        {
         "marker": {
          "maxdisplayed": 10
         },
         "mode": "lines+markers",
         "name": "Trial9",
         "type": "scatter",
         "x": [
          1
         ],
         "y": [
          91.37
         ]
        },
        {
         "marker": {
          "maxdisplayed": 10
         },
         "mode": "lines+markers",
         "name": "Trial10",
         "type": "scatter",
         "x": [
          1
         ],
         "y": [
          91.46000000000001
         ]
        },
        {
         "marker": {
          "maxdisplayed": 10
         },
         "mode": "lines+markers",
         "name": "Trial11",
         "type": "scatter",
         "x": [
          1
         ],
         "y": [
          91.11
         ]
        },
        {
         "marker": {
          "maxdisplayed": 10
         },
         "mode": "lines+markers",
         "name": "Trial12",
         "type": "scatter",
         "x": [
          1
         ],
         "y": [
          91.4
         ]
        },
        {
         "marker": {
          "maxdisplayed": 10
         },
         "mode": "lines+markers",
         "name": "Trial13",
         "type": "scatter",
         "x": [
          1
         ],
         "y": [
          91.28
         ]
        },
        {
         "marker": {
          "maxdisplayed": 10
         },
         "mode": "lines+markers",
         "name": "Trial14",
         "type": "scatter",
         "x": [
          1
         ],
         "y": [
          92.9
         ]
        },
        {
         "marker": {
          "maxdisplayed": 10
         },
         "mode": "lines+markers",
         "name": "Trial15",
         "type": "scatter",
         "x": [
          1,
          2
         ],
         "y": [
          90.94,
          83.84
         ]
        },
        {
         "marker": {
          "maxdisplayed": 10
         },
         "mode": "lines+markers",
         "name": "Trial16",
         "type": "scatter",
         "x": [
          1,
          2
         ],
         "y": [
          90.02,
          83.22
         ]
        },
        {
         "marker": {
          "maxdisplayed": 10
         },
         "mode": "lines+markers",
         "name": "Trial17",
         "type": "scatter",
         "x": [
          1
         ],
         "y": [
          91.9
         ]
        },
        {
         "marker": {
          "maxdisplayed": 10
         },
         "mode": "lines+markers",
         "name": "Trial18",
         "type": "scatter",
         "x": [
          1
         ],
         "y": [
          91.37
         ]
        },
        {
         "marker": {
          "maxdisplayed": 10
         },
         "mode": "lines+markers",
         "name": "Trial19",
         "type": "scatter",
         "x": [
          1
         ],
         "y": [
          92.37
         ]
        },
        {
         "marker": {
          "maxdisplayed": 10
         },
         "mode": "lines+markers",
         "name": "Trial20",
         "type": "scatter",
         "x": [
          1,
          2,
          3,
          4,
          5,
          6,
          7,
          8,
          9,
          10,
          11,
          12,
          13,
          14,
          15,
          16,
          17,
          18,
          19,
          20,
          21,
          22,
          23,
          24,
          25,
          26,
          27,
          28,
          29,
          30,
          31,
          32,
          33
         ],
         "y": [
          90.66,
          82.57,
          77.21000000000001,
          74.53999999999999,
          70.84,
          68.47,
          66.25999999999999,
          63.99,
          62.07,
          59.97,
          56.29,
          56.04,
          53.34,
          52.47,
          51.98,
          50.09,
          48.32,
          48.23,
          46.38,
          47.12,
          45.27,
          44.94,
          45.31,
          45.06,
          44.32,
          44.26,
          45.07,
          44.45,
          43.71,
          44.36,
          44.77,
          43.1,
          43.56
         ]
        },
        {
         "marker": {
          "maxdisplayed": 10
         },
         "mode": "lines+markers",
         "name": "Trial21",
         "type": "scatter",
         "x": [
          1,
          2
         ],
         "y": [
          90.74,
          83.53
         ]
        },
        {
         "marker": {
          "maxdisplayed": 10
         },
         "mode": "lines+markers",
         "name": "Trial22",
         "type": "scatter",
         "x": [
          1,
          2
         ],
         "y": [
          90.87,
          82.77
         ]
        },
        {
         "marker": {
          "maxdisplayed": 10
         },
         "mode": "lines+markers",
         "name": "Trial23",
         "type": "scatter",
         "x": [
          1
         ],
         "y": [
          91.69
         ]
        },
        {
         "marker": {
          "maxdisplayed": 10
         },
         "mode": "lines+markers",
         "name": "Trial24",
         "type": "scatter",
         "x": [
          1
         ],
         "y": [
          92.3
         ]
        },
        {
         "marker": {
          "maxdisplayed": 10
         },
         "mode": "lines+markers",
         "name": "Trial25",
         "type": "scatter",
         "x": [
          1
         ],
         "y": [
          91.64
         ]
        },
        {
         "marker": {
          "maxdisplayed": 10
         },
         "mode": "lines+markers",
         "name": "Trial26",
         "type": "scatter",
         "x": [
          1
         ],
         "y": [
          92.49
         ]
        },
        {
         "marker": {
          "maxdisplayed": 10
         },
         "mode": "lines+markers",
         "name": "Trial27",
         "type": "scatter",
         "x": [
          1
         ],
         "y": [
          93.96
         ]
        },
        {
         "marker": {
          "maxdisplayed": 10
         },
         "mode": "lines+markers",
         "name": "Trial28",
         "type": "scatter",
         "x": [
          1,
          2
         ],
         "y": [
          91.19,
          82.82
         ]
        },
        {
         "marker": {
          "maxdisplayed": 10
         },
         "mode": "lines+markers",
         "name": "Trial29",
         "type": "scatter",
         "x": [
          1
         ],
         "y": [
          91.56
         ]
        },
        {
         "marker": {
          "maxdisplayed": 10
         },
         "mode": "lines+markers",
         "name": "Trial30",
         "type": "scatter",
         "x": [
          1
         ],
         "y": [
          91.72
         ]
        },
        {
         "marker": {
          "maxdisplayed": 10
         },
         "mode": "lines+markers",
         "name": "Trial31",
         "type": "scatter",
         "x": [
          1
         ],
         "y": [
          92.1
         ]
        },
        {
         "marker": {
          "maxdisplayed": 10
         },
         "mode": "lines+markers",
         "name": "Trial32",
         "type": "scatter",
         "x": [
          1
         ],
         "y": [
          91.59
         ]
        },
        {
         "marker": {
          "maxdisplayed": 10
         },
         "mode": "lines+markers",
         "name": "Trial33",
         "type": "scatter",
         "x": [
          1,
          2,
          3,
          4
         ],
         "y": [
          90.98,
          82.38,
          77.32,
          75.19
         ]
        },
        {
         "marker": {
          "maxdisplayed": 10
         },
         "mode": "lines+markers",
         "name": "Trial34",
         "type": "scatter",
         "x": [
          1,
          2,
          3,
          4,
          5,
          6,
          7,
          8
         ],
         "y": [
          91.02,
          82.41,
          77.65,
          74.63,
          71.95,
          69.07,
          66.78999999999999,
          65.18
         ]
        },
        {
         "marker": {
          "maxdisplayed": 10
         },
         "mode": "lines+markers",
         "name": "Trial35",
         "type": "scatter",
         "x": [
          1,
          2
         ],
         "y": [
          90.84,
          83.88
         ]
        },
        {
         "marker": {
          "maxdisplayed": 10
         },
         "mode": "lines+markers",
         "name": "Trial36",
         "type": "scatter",
         "x": [
          1,
          2
         ],
         "y": [
          90.78999999999999,
          83.88
         ]
        },
        {
         "marker": {
          "maxdisplayed": 10
         },
         "mode": "lines+markers",
         "name": "Trial37",
         "type": "scatter",
         "x": [
          1
         ],
         "y": [
          92.68
         ]
        },
        {
         "marker": {
          "maxdisplayed": 10
         },
         "mode": "lines+markers",
         "name": "Trial38",
         "type": "scatter",
         "x": [
          1
         ],
         "y": [
          98.37
         ]
        },
        {
         "marker": {
          "maxdisplayed": 10
         },
         "mode": "lines+markers",
         "name": "Trial39",
         "type": "scatter",
         "x": [
          1,
          2
         ],
         "y": [
          90.64,
          83.32
         ]
        },
        {
         "marker": {
          "maxdisplayed": 10
         },
         "mode": "lines+markers",
         "name": "Trial41",
         "type": "scatter",
         "x": [
          1
         ],
         "y": [
          91.43
         ]
        },
        {
         "marker": {
          "maxdisplayed": 10
         },
         "mode": "lines+markers",
         "name": "Trial42",
         "type": "scatter",
         "x": [
          1
         ],
         "y": [
          92.6
         ]
        },
        {
         "marker": {
          "maxdisplayed": 10
         },
         "mode": "lines+markers",
         "name": "Trial43",
         "type": "scatter",
         "x": [
          1
         ],
         "y": [
          93.06
         ]
        },
        {
         "marker": {
          "maxdisplayed": 10
         },
         "mode": "lines+markers",
         "name": "Trial44",
         "type": "scatter",
         "x": [
          1,
          2
         ],
         "y": [
          90.88,
          83.75
         ]
        },
        {
         "marker": {
          "maxdisplayed": 10
         },
         "mode": "lines+markers",
         "name": "Trial45",
         "type": "scatter",
         "x": [
          1
         ],
         "y": [
          94.19
         ]
        },
        {
         "marker": {
          "maxdisplayed": 10
         },
         "mode": "lines+markers",
         "name": "Trial46",
         "type": "scatter",
         "x": [
          1,
          2,
          3,
          4
         ],
         "y": [
          90.89,
          82.82,
          78.2,
          75.09
         ]
        },
        {
         "marker": {
          "maxdisplayed": 10
         },
         "mode": "lines+markers",
         "name": "Trial47",
         "type": "scatter",
         "x": [
          1
         ],
         "y": [
          94.74
         ]
        },
        {
         "marker": {
          "maxdisplayed": 10
         },
         "mode": "lines+markers",
         "name": "Trial48",
         "type": "scatter",
         "x": [
          1
         ],
         "y": [
          91.6
         ]
        },
        {
         "marker": {
          "maxdisplayed": 10
         },
         "mode": "lines+markers",
         "name": "Trial49",
         "type": "scatter",
         "x": [
          1,
          2
         ],
         "y": [
          91.37,
          83.49
         ]
        },
        {
         "marker": {
          "maxdisplayed": 10
         },
         "mode": "lines+markers",
         "name": "Trial50",
         "type": "scatter",
         "x": [
          1
         ],
         "y": [
          92.65
         ]
        },
        {
         "marker": {
          "maxdisplayed": 10
         },
         "mode": "lines+markers",
         "name": "Trial51",
         "type": "scatter",
         "x": [
          1
         ],
         "y": [
          91.59
         ]
        },
        {
         "marker": {
          "maxdisplayed": 10
         },
         "mode": "lines+markers",
         "name": "Trial52",
         "type": "scatter",
         "x": [
          1,
          2
         ],
         "y": [
          90.8,
          84.37
         ]
        },
        {
         "marker": {
          "maxdisplayed": 10
         },
         "mode": "lines+markers",
         "name": "Trial53",
         "type": "scatter",
         "x": [
          1,
          2
         ],
         "y": [
          90.76,
          83.52
         ]
        },
        {
         "marker": {
          "maxdisplayed": 10
         },
         "mode": "lines+markers",
         "name": "Trial54",
         "type": "scatter",
         "x": [
          1
         ],
         "y": [
          92.7
         ]
        },
        {
         "marker": {
          "maxdisplayed": 10
         },
         "mode": "lines+markers",
         "name": "Trial55",
         "type": "scatter",
         "x": [
          1
         ],
         "y": [
          96.82
         ]
        },
        {
         "marker": {
          "maxdisplayed": 10
         },
         "mode": "lines+markers",
         "name": "Trial56",
         "type": "scatter",
         "x": [
          1,
          2,
          3,
          4
         ],
         "y": [
          90.91,
          82.44,
          77.26,
          75.21000000000001
         ]
        },
        {
         "marker": {
          "maxdisplayed": 10
         },
         "mode": "lines+markers",
         "name": "Trial57",
         "type": "scatter",
         "x": [
          1,
          2,
          3,
          4,
          5,
          6,
          7,
          8
         ],
         "y": [
          90.52,
          83.01,
          77.7,
          74.58,
          72.02,
          69.69,
          66.75,
          65.14
         ]
        },
        {
         "marker": {
          "maxdisplayed": 10
         },
         "mode": "lines+markers",
         "name": "Trial58",
         "type": "scatter",
         "x": [
          1,
          2,
          3,
          4
         ],
         "y": [
          91.36,
          83.21000000000001,
          79.49,
          75.69
         ]
        },
        {
         "marker": {
          "maxdisplayed": 10
         },
         "mode": "lines+markers",
         "name": "Trial59",
         "type": "scatter",
         "x": [
          1
         ],
         "y": [
          97.46
         ]
        },
        {
         "marker": {
          "maxdisplayed": 10
         },
         "mode": "lines+markers",
         "name": "Trial60",
         "type": "scatter",
         "x": [
          1,
          2
         ],
         "y": [
          90.74,
          83.61
         ]
        },
        {
         "marker": {
          "maxdisplayed": 10
         },
         "mode": "lines+markers",
         "name": "Trial61",
         "type": "scatter",
         "x": [
          1,
          2
         ],
         "y": [
          90.5,
          83.74
         ]
        },
        {
         "marker": {
          "maxdisplayed": 10
         },
         "mode": "lines+markers",
         "name": "Trial62",
         "type": "scatter",
         "x": [
          1
         ],
         "y": [
          96.38
         ]
        },
        {
         "marker": {
          "maxdisplayed": 10
         },
         "mode": "lines+markers",
         "name": "Trial63",
         "type": "scatter",
         "x": [
          1
         ],
         "y": [
          94.06
         ]
        },
        {
         "marker": {
          "maxdisplayed": 10
         },
         "mode": "lines+markers",
         "name": "Trial64",
         "type": "scatter",
         "x": [
          1
         ],
         "y": [
          92.76
         ]
        },
        {
         "marker": {
          "maxdisplayed": 10
         },
         "mode": "lines+markers",
         "name": "Trial65",
         "type": "scatter",
         "x": [
          1,
          2
         ],
         "y": [
          90.99,
          83.45
         ]
        },
        {
         "marker": {
          "maxdisplayed": 10
         },
         "mode": "lines+markers",
         "name": "Trial66",
         "type": "scatter",
         "x": [
          1
         ],
         "y": [
          92.4
         ]
        },
        {
         "marker": {
          "maxdisplayed": 10
         },
         "mode": "lines+markers",
         "name": "Trial67",
         "type": "scatter",
         "x": [
          1
         ],
         "y": [
          92.17
         ]
        },
        {
         "marker": {
          "maxdisplayed": 10
         },
         "mode": "lines+markers",
         "name": "Trial68",
         "type": "scatter",
         "x": [
          1
         ],
         "y": [
          91.38
         ]
        },
        {
         "marker": {
          "maxdisplayed": 10
         },
         "mode": "lines+markers",
         "name": "Trial69",
         "type": "scatter",
         "x": [
          1,
          2
         ],
         "y": [
          91.21000000000001,
          83.65
         ]
        },
        {
         "marker": {
          "maxdisplayed": 10
         },
         "mode": "lines+markers",
         "name": "Trial70",
         "type": "scatter",
         "x": [
          1
         ],
         "y": [
          92.14
         ]
        },
        {
         "marker": {
          "maxdisplayed": 10
         },
         "mode": "lines+markers",
         "name": "Trial71",
         "type": "scatter",
         "x": [
          1,
          2,
          3,
          4
         ],
         "y": [
          91.27,
          83.21000000000001,
          78.28,
          75.76
         ]
        },
        {
         "marker": {
          "maxdisplayed": 10
         },
         "mode": "lines+markers",
         "name": "Trial72",
         "type": "scatter",
         "x": [
          1,
          2
         ],
         "y": [
          91.17,
          83.53999999999999
         ]
        },
        {
         "marker": {
          "maxdisplayed": 10
         },
         "mode": "lines+markers",
         "name": "Trial73",
         "type": "scatter",
         "x": [
          1
         ],
         "y": [
          93.03
         ]
        },
        {
         "marker": {
          "maxdisplayed": 10
         },
         "mode": "lines+markers",
         "name": "Trial74",
         "type": "scatter",
         "x": [
          1
         ],
         "y": [
          92.07
         ]
        },
        {
         "marker": {
          "maxdisplayed": 10
         },
         "mode": "lines+markers",
         "name": "Trial75",
         "type": "scatter",
         "x": [
          1
         ],
         "y": [
          92.7
         ]
        },
        {
         "marker": {
          "maxdisplayed": 10
         },
         "mode": "lines+markers",
         "name": "Trial76",
         "type": "scatter",
         "x": [
          1,
          2
         ],
         "y": [
          91.27,
          83.74
         ]
        },
        {
         "marker": {
          "maxdisplayed": 10
         },
         "mode": "lines+markers",
         "name": "Trial77",
         "type": "scatter",
         "x": [
          1,
          2
         ],
         "y": [
          90.78999999999999,
          83.37
         ]
        },
        {
         "marker": {
          "maxdisplayed": 10
         },
         "mode": "lines+markers",
         "name": "Trial78",
         "type": "scatter",
         "x": [
          1
         ],
         "y": [
          99
         ]
        },
        {
         "marker": {
          "maxdisplayed": 10
         },
         "mode": "lines+markers",
         "name": "Trial79",
         "type": "scatter",
         "x": [
          1
         ],
         "y": [
          92.02
         ]
        },
        {
         "marker": {
          "maxdisplayed": 10
         },
         "mode": "lines+markers",
         "name": "Trial80",
         "type": "scatter",
         "x": [
          1,
          2,
          3,
          4
         ],
         "y": [
          90.9,
          82.43,
          77.24,
          75.21000000000001
         ]
        },
        {
         "marker": {
          "maxdisplayed": 10
         },
         "mode": "lines+markers",
         "name": "Trial81",
         "type": "scatter",
         "x": [
          1
         ],
         "y": [
          98.22
         ]
        },
        {
         "marker": {
          "maxdisplayed": 10
         },
         "mode": "lines+markers",
         "name": "Trial82",
         "type": "scatter",
         "x": [
          1,
          2
         ],
         "y": [
          90.73,
          83.46000000000001
         ]
        },
        {
         "marker": {
          "maxdisplayed": 10
         },
         "mode": "lines+markers",
         "name": "Trial83",
         "type": "scatter",
         "x": [
          1
         ],
         "y": [
          96.78
         ]
        },
        {
         "marker": {
          "maxdisplayed": 10
         },
         "mode": "lines+markers",
         "name": "Trial84",
         "type": "scatter",
         "x": [
          1
         ],
         "y": [
          92.64
         ]
        },
        {
         "marker": {
          "maxdisplayed": 10
         },
         "mode": "lines+markers",
         "name": "Trial85",
         "type": "scatter",
         "x": [
          1,
          2,
          3,
          4,
          5,
          6,
          7,
          8,
          9,
          10,
          11,
          12,
          13,
          14,
          15,
          16,
          17,
          18,
          19
         ],
         "y": [
          90.88,
          82.5,
          77.62,
          74.64,
          70.47,
          68.63,
          64.49000000000001,
          63.54,
          61.4,
          58.99,
          57.16,
          56.75,
          54.06,
          52.35,
          51.86,
          49.78,
          48.17,
          48.07,
          46.9
         ]
        },
        {
         "marker": {
          "maxdisplayed": 10
         },
         "mode": "lines+markers",
         "name": "Trial86",
         "type": "scatter",
         "x": [
          1,
          2
         ],
         "y": [
          90.76,
          83.53
         ]
        },
        {
         "marker": {
          "maxdisplayed": 10
         },
         "mode": "lines+markers",
         "name": "Trial87",
         "type": "scatter",
         "x": [
          1
         ],
         "y": [
          93.02
         ]
        },
        {
         "marker": {
          "maxdisplayed": 10
         },
         "mode": "lines+markers",
         "name": "Trial88",
         "type": "scatter",
         "x": [
          1,
          2
         ],
         "y": [
          90.61,
          83.44
         ]
        },
        {
         "marker": {
          "maxdisplayed": 10
         },
         "mode": "lines+markers",
         "name": "Trial89",
         "type": "scatter",
         "x": [
          1
         ],
         "y": [
          92.29
         ]
        },
        {
         "marker": {
          "maxdisplayed": 10
         },
         "mode": "lines+markers",
         "name": "Trial90",
         "type": "scatter",
         "x": [
          1,
          2,
          3,
          4,
          5,
          6,
          7,
          8,
          9,
          10,
          11,
          12,
          13,
          14,
          15,
          16
         ],
         "y": [
          90.21000000000001,
          83.05,
          78.74,
          74.44,
          72.28999999999999,
          69.38,
          67.7,
          64.81,
          63.87,
          61.67,
          59.78,
          58.06,
          56.61,
          53.48,
          52.82,
          52.49
         ]
        },
        {
         "marker": {
          "maxdisplayed": 10
         },
         "mode": "lines+markers",
         "name": "Trial91",
         "type": "scatter",
         "x": [
          1,
          2
         ],
         "y": [
          90.68,
          83.4
         ]
        },
        {
         "marker": {
          "maxdisplayed": 10
         },
         "mode": "lines+markers",
         "name": "Trial92",
         "type": "scatter",
         "x": [
          1
         ],
         "y": [
          93.61
         ]
        },
        {
         "marker": {
          "maxdisplayed": 10
         },
         "mode": "lines+markers",
         "name": "Trial93",
         "type": "scatter",
         "x": [
          1,
          2,
          3,
          4,
          5,
          6,
          7,
          8
         ],
         "y": [
          90.87,
          82.26,
          77.91,
          74.75,
          71.97,
          69.49,
          66.93,
          65.03
         ]
        },
        {
         "marker": {
          "maxdisplayed": 10
         },
         "mode": "lines+markers",
         "name": "Trial94",
         "type": "scatter",
         "x": [
          1
         ],
         "y": [
          92.1
         ]
        },
        {
         "marker": {
          "maxdisplayed": 10
         },
         "mode": "lines+markers",
         "name": "Trial95",
         "type": "scatter",
         "x": [
          1
         ],
         "y": [
          91.9
         ]
        },
        {
         "marker": {
          "maxdisplayed": 10
         },
         "mode": "lines+markers",
         "name": "Trial96",
         "type": "scatter",
         "x": [
          1,
          2,
          3,
          4
         ],
         "y": [
          91.38,
          82.89,
          78.69,
          75.84
         ]
        },
        {
         "marker": {
          "maxdisplayed": 10
         },
         "mode": "lines+markers",
         "name": "Trial97",
         "type": "scatter",
         "x": [
          1
         ],
         "y": [
          92.34
         ]
        },
        {
         "marker": {
          "maxdisplayed": 10
         },
         "mode": "lines+markers",
         "name": "Trial98",
         "type": "scatter",
         "x": [
          1
         ],
         "y": [
          92.86
         ]
        },
        {
         "marker": {
          "maxdisplayed": 10
         },
         "mode": "lines+markers",
         "name": "Trial99",
         "type": "scatter",
         "x": [
          1
         ],
         "y": [
          97.34
         ]
        },
        {
         "marker": {
          "maxdisplayed": 10
         },
         "mode": "lines+markers",
         "name": "Trial100",
         "type": "scatter",
         "x": [
          1,
          2,
          3,
          4
         ],
         "y": [
          90.85,
          82.32,
          77.84,
          74.78
         ]
        },
        {
         "marker": {
          "maxdisplayed": 10
         },
         "mode": "lines+markers",
         "name": "Trial101",
         "type": "scatter",
         "x": [
          1
         ],
         "y": [
          92.57
         ]
        },
        {
         "marker": {
          "maxdisplayed": 10
         },
         "mode": "lines+markers",
         "name": "Trial102",
         "type": "scatter",
         "x": [
          1,
          2
         ],
         "y": [
          91.27,
          84.19
         ]
        },
        {
         "marker": {
          "maxdisplayed": 10
         },
         "mode": "lines+markers",
         "name": "Trial103",
         "type": "scatter",
         "x": [
          1,
          2
         ],
         "y": [
          90.73,
          83.44
         ]
        },
        {
         "marker": {
          "maxdisplayed": 10
         },
         "mode": "lines+markers",
         "name": "Trial104",
         "type": "scatter",
         "x": [
          1,
          2
         ],
         "y": [
          90.55,
          83.38
         ]
        },
        {
         "marker": {
          "maxdisplayed": 10
         },
         "mode": "lines+markers",
         "name": "Trial105",
         "type": "scatter",
         "x": [
          1
         ],
         "y": [
          92.15
         ]
        },
        {
         "marker": {
          "maxdisplayed": 10
         },
         "mode": "lines+markers",
         "name": "Trial106",
         "type": "scatter",
         "x": [
          1,
          2,
          3,
          4,
          5,
          6,
          7,
          8
         ],
         "y": [
          90.86,
          82.72,
          77.85,
          74.4,
          71.3,
          68.74,
          65.50999999999999,
          65.3
         ]
        },
        {
         "marker": {
          "maxdisplayed": 10
         },
         "mode": "lines+markers",
         "name": "Trial107",
         "type": "scatter",
         "x": [
          1
         ],
         "y": [
          97.68
         ]
        },
        {
         "marker": {
          "maxdisplayed": 10
         },
         "mode": "lines+markers",
         "name": "Trial108",
         "type": "scatter",
         "x": [
          1,
          2
         ],
         "y": [
          91.39,
          83.81
         ]
        },
        {
         "marker": {
          "maxdisplayed": 10
         },
         "mode": "lines+markers",
         "name": "Trial109",
         "type": "scatter",
         "x": [
          1,
          2
         ],
         "y": [
          90.24,
          83.41
         ]
        },
        {
         "marker": {
          "maxdisplayed": 10
         },
         "mode": "lines+markers",
         "name": "Trial110",
         "type": "scatter",
         "x": [
          1
         ],
         "y": [
          92.89
         ]
        },
        {
         "marker": {
          "maxdisplayed": 10
         },
         "mode": "lines+markers",
         "name": "Trial111",
         "type": "scatter",
         "x": [
          1
         ],
         "y": [
          98.68
         ]
        },
        {
         "marker": {
          "maxdisplayed": 10
         },
         "mode": "lines+markers",
         "name": "Trial112",
         "type": "scatter",
         "x": [
          1
         ],
         "y": [
          97.75
         ]
        },
        {
         "marker": {
          "maxdisplayed": 10
         },
         "mode": "lines+markers",
         "name": "Trial113",
         "type": "scatter",
         "x": [
          1,
          2
         ],
         "y": [
          90.32,
          83.61
         ]
        },
        {
         "marker": {
          "maxdisplayed": 10
         },
         "mode": "lines+markers",
         "name": "Trial114",
         "type": "scatter",
         "x": [
          1
         ],
         "y": [
          92.01
         ]
        },
        {
         "marker": {
          "maxdisplayed": 10
         },
         "mode": "lines+markers",
         "name": "Trial115",
         "type": "scatter",
         "x": [
          1,
          2
         ],
         "y": [
          91.37,
          83.52
         ]
        },
        {
         "marker": {
          "maxdisplayed": 10
         },
         "mode": "lines+markers",
         "name": "Trial116",
         "type": "scatter",
         "x": [
          1
         ],
         "y": [
          96.82
         ]
        },
        {
         "marker": {
          "maxdisplayed": 10
         },
         "mode": "lines+markers",
         "name": "Trial117",
         "type": "scatter",
         "x": [
          1
         ],
         "y": [
          98.9
         ]
        },
        {
         "marker": {
          "maxdisplayed": 10
         },
         "mode": "lines+markers",
         "name": "Trial118",
         "type": "scatter",
         "x": [
          1
         ],
         "y": [
          91.45
         ]
        },
        {
         "marker": {
          "maxdisplayed": 10
         },
         "mode": "lines+markers",
         "name": "Trial119",
         "type": "scatter",
         "x": [
          1
         ],
         "y": [
          91.78999999999999
         ]
        },
        {
         "marker": {
          "maxdisplayed": 10
         },
         "mode": "lines+markers",
         "name": "Trial120",
         "type": "scatter",
         "x": [
          1
         ],
         "y": [
          97.24
         ]
        },
        {
         "marker": {
          "maxdisplayed": 10
         },
         "mode": "lines+markers",
         "name": "Trial121",
         "type": "scatter",
         "x": [
          1
         ],
         "y": [
          91.59
         ]
        },
        {
         "marker": {
          "maxdisplayed": 10
         },
         "mode": "lines+markers",
         "name": "Trial122",
         "type": "scatter",
         "x": [
          1,
          2,
          3,
          4,
          5,
          6,
          7,
          8,
          9,
          10,
          11,
          12,
          13,
          14,
          15
         ],
         "y": [
          90.59,
          83.05,
          77.38,
          73.41,
          70.72,
          68.03999999999999,
          65.58,
          63.59,
          59.58,
          57.76,
          56.29,
          53.97,
          51.25,
          51.27,
          50.14
         ]
        },
        {
         "marker": {
          "maxdisplayed": 10
         },
         "mode": "lines+markers",
         "name": "Trial123",
         "type": "scatter",
         "x": [
          1
         ],
         "y": [
          91.65
         ]
        },
        {
         "marker": {
          "maxdisplayed": 10
         },
         "mode": "lines+markers",
         "name": "Trial124",
         "type": "scatter",
         "x": [
          1
         ],
         "y": [
          92.53
         ]
        },
        {
         "marker": {
          "maxdisplayed": 10
         },
         "mode": "lines+markers",
         "name": "Trial125",
         "type": "scatter",
         "x": [
          1,
          2,
          3,
          4,
          5,
          6,
          7,
          8
         ],
         "y": [
          90.43,
          82.96000000000001,
          77.78,
          74.73,
          72.03999999999999,
          69.14,
          66.7,
          65.34
         ]
        },
        {
         "marker": {
          "maxdisplayed": 10
         },
         "mode": "lines+markers",
         "name": "Trial126",
         "type": "scatter",
         "x": [
          1,
          2
         ],
         "y": [
          90.55,
          84.02
         ]
        },
        {
         "marker": {
          "maxdisplayed": 10
         },
         "mode": "lines+markers",
         "name": "Trial127",
         "type": "scatter",
         "x": [
          1,
          2
         ],
         "y": [
          90.76,
          83.48
         ]
        },
        {
         "marker": {
          "maxdisplayed": 10
         },
         "mode": "lines+markers",
         "name": "Trial128",
         "type": "scatter",
         "x": [
          1
         ],
         "y": [
          93.75
         ]
        },
        {
         "marker": {
          "maxdisplayed": 10
         },
         "mode": "lines+markers",
         "name": "Trial129",
         "type": "scatter",
         "x": [
          1
         ],
         "y": [
          96.46
         ]
        },
        {
         "marker": {
          "maxdisplayed": 10
         },
         "mode": "lines+markers",
         "name": "Trial130",
         "type": "scatter",
         "x": [
          1,
          2
         ],
         "y": [
          91.05,
          83.69
         ]
        },
        {
         "marker": {
          "maxdisplayed": 10
         },
         "mode": "lines+markers",
         "name": "Trial131",
         "type": "scatter",
         "x": [
          1,
          2
         ],
         "y": [
          91.2,
          83.82
         ]
        },
        {
         "marker": {
          "maxdisplayed": 10
         },
         "mode": "lines+markers",
         "name": "Trial132",
         "type": "scatter",
         "x": [
          1,
          2,
          3,
          4,
          5,
          6,
          7,
          8
         ],
         "y": [
          90.89,
          82.37,
          77.7,
          74.73,
          71.73,
          68.95,
          66.49000000000001,
          64.97
         ]
        },
        {
         "marker": {
          "maxdisplayed": 10
         },
         "mode": "lines+markers",
         "name": "Trial133",
         "type": "scatter",
         "x": [
          1,
          2,
          3,
          4,
          5,
          6,
          7,
          8,
          9,
          10,
          11,
          12,
          13,
          14,
          15
         ],
         "y": [
          91.31,
          82.2,
          78.15,
          73.97,
          71.36,
          68.27,
          65.91,
          63.71,
          61.89,
          60.65,
          58.56,
          56.31,
          54.89,
          52.31,
          52.65
         ]
        },
        {
         "marker": {
          "maxdisplayed": 10
         },
         "mode": "lines+markers",
         "name": "Trial134",
         "type": "scatter",
         "x": [
          1,
          2,
          3,
          4
         ],
         "y": [
          90.73,
          83.33,
          78.88,
          75.9
         ]
        },
        {
         "marker": {
          "maxdisplayed": 10
         },
         "mode": "lines+markers",
         "name": "Trial135",
         "type": "scatter",
         "x": [
          1,
          2,
          3,
          4
         ],
         "y": [
          91.03999999999999,
          82.9,
          78.4,
          76.26
         ]
        },
        {
         "marker": {
          "maxdisplayed": 10
         },
         "mode": "lines+markers",
         "name": "Trial136",
         "type": "scatter",
         "x": [
          1,
          2,
          3,
          4
         ],
         "y": [
          91.35,
          82.61,
          78.45,
          76.56
         ]
        },
        {
         "marker": {
          "maxdisplayed": 10
         },
         "mode": "lines+markers",
         "name": "Trial137",
         "type": "scatter",
         "x": [
          1,
          2,
          3,
          4,
          5,
          6,
          7,
          8
         ],
         "y": [
          90.64,
          83.37,
          77.74,
          74.52,
          72.12,
          69.34,
          67.24000000000001,
          65.36
         ]
        },
        {
         "marker": {
          "maxdisplayed": 10
         },
         "mode": "lines+markers",
         "name": "Trial138",
         "type": "scatter",
         "x": [
          1
         ],
         "y": [
          91.78
         ]
        },
        {
         "marker": {
          "maxdisplayed": 10
         },
         "mode": "lines+markers",
         "name": "Trial139",
         "type": "scatter",
         "x": [
          1
         ],
         "y": [
          98.89
         ]
        },
        {
         "marker": {
          "maxdisplayed": 10
         },
         "mode": "lines+markers",
         "name": "Trial140",
         "type": "scatter",
         "x": [
          1
         ],
         "y": [
          92.98
         ]
        },
        {
         "marker": {
          "maxdisplayed": 10
         },
         "mode": "lines+markers",
         "name": "Trial141",
         "type": "scatter",
         "x": [
          1,
          2,
          3,
          4
         ],
         "y": [
          90.96000000000001,
          82.66,
          78.45,
          74.92
         ]
        },
        {
         "marker": {
          "maxdisplayed": 10
         },
         "mode": "lines+markers",
         "name": "Trial142",
         "type": "scatter",
         "x": [
          1
         ],
         "y": [
          91.53999999999999
         ]
        },
        {
         "marker": {
          "maxdisplayed": 10
         },
         "mode": "lines+markers",
         "name": "Trial143",
         "type": "scatter",
         "x": [
          1
         ],
         "y": [
          92.16
         ]
        },
        {
         "marker": {
          "maxdisplayed": 10
         },
         "mode": "lines+markers",
         "name": "Trial144",
         "type": "scatter",
         "x": [
          1,
          2
         ],
         "y": [
          91.38,
          83.75
         ]
        },
        {
         "marker": {
          "maxdisplayed": 10
         },
         "mode": "lines+markers",
         "name": "Trial145",
         "type": "scatter",
         "x": [
          1,
          2,
          3,
          4,
          5,
          6,
          7,
          8
         ],
         "y": [
          90.57,
          83.27,
          79.1,
          73.82,
          70.96000000000001,
          70.38,
          65.07,
          63.61
         ]
        },
        {
         "marker": {
          "maxdisplayed": 10
         },
         "mode": "lines+markers",
         "name": "Trial146",
         "type": "scatter",
         "x": [
          1
         ],
         "y": [
          91.98
         ]
        },
        {
         "marker": {
          "maxdisplayed": 10
         },
         "mode": "lines+markers",
         "name": "Trial147",
         "type": "scatter",
         "x": [
          1,
          2,
          3,
          4,
          5
         ],
         "y": [
          91.37,
          83.14,
          78.89,
          74.46000000000001,
          70.43
         ]
        },
        {
         "marker": {
          "maxdisplayed": 10
         },
         "mode": "lines+markers",
         "name": "Trial148",
         "type": "scatter",
         "x": [
          1
         ],
         "y": [
          91.9
         ]
        },
        {
         "marker": {
          "maxdisplayed": 10
         },
         "mode": "lines+markers",
         "name": "Trial149",
         "type": "scatter",
         "x": [
          1
         ],
         "y": [
          92.66
         ]
        },
        {
         "marker": {
          "maxdisplayed": 10
         },
         "mode": "lines+markers",
         "name": "Trial150",
         "type": "scatter",
         "x": [
          1,
          2,
          3,
          4
         ],
         "y": [
          90.97,
          83.31,
          78.21000000000001,
          75.59
         ]
        },
        {
         "marker": {
          "maxdisplayed": 10
         },
         "mode": "lines+markers",
         "name": "Trial151",
         "type": "scatter",
         "x": [
          1,
          2
         ],
         "y": [
          90.78,
          83.62
         ]
        },
        {
         "marker": {
          "maxdisplayed": 10
         },
         "mode": "lines+markers",
         "name": "Trial152",
         "type": "scatter",
         "x": [
          1,
          2
         ],
         "y": [
          91.34,
          84.34
         ]
        },
        {
         "marker": {
          "maxdisplayed": 10
         },
         "mode": "lines+markers",
         "name": "Trial153",
         "type": "scatter",
         "x": [
          1,
          2
         ],
         "y": [
          91.23,
          83.51
         ]
        },
        {
         "marker": {
          "maxdisplayed": 10
         },
         "mode": "lines+markers",
         "name": "Trial154",
         "type": "scatter",
         "x": [
          1,
          2,
          3,
          4
         ],
         "y": [
          90.91,
          82.44,
          77.27,
          75.2
         ]
        },
        {
         "marker": {
          "maxdisplayed": 10
         },
         "mode": "lines+markers",
         "name": "Trial156",
         "type": "scatter",
         "x": [
          1,
          2
         ],
         "y": [
          90.67,
          83.8
         ]
        },
        {
         "marker": {
          "maxdisplayed": 10
         },
         "mode": "lines+markers",
         "name": "Trial157",
         "type": "scatter",
         "x": [
          1
         ],
         "y": [
          93.91
         ]
        },
        {
         "marker": {
          "maxdisplayed": 10
         },
         "mode": "lines+markers",
         "name": "Trial158",
         "type": "scatter",
         "x": [
          1
         ],
         "y": [
          92.07
         ]
        },
        {
         "marker": {
          "maxdisplayed": 10
         },
         "mode": "lines+markers",
         "name": "Trial159",
         "type": "scatter",
         "x": [
          1,
          2
         ],
         "y": [
          91.31,
          84.26
         ]
        },
        {
         "marker": {
          "maxdisplayed": 10
         },
         "mode": "lines+markers",
         "name": "Trial160",
         "type": "scatter",
         "x": [
          1
         ],
         "y": [
          96.91
         ]
        },
        {
         "marker": {
          "maxdisplayed": 10
         },
         "mode": "lines+markers",
         "name": "Trial161",
         "type": "scatter",
         "x": [
          1
         ],
         "y": [
          93.65
         ]
        },
        {
         "marker": {
          "maxdisplayed": 10
         },
         "mode": "lines+markers",
         "name": "Trial162",
         "type": "scatter",
         "x": [
          1,
          2
         ],
         "y": [
          90.73,
          83.4
         ]
        },
        {
         "marker": {
          "maxdisplayed": 10
         },
         "mode": "lines+markers",
         "name": "Trial163",
         "type": "scatter",
         "x": [
          1
         ],
         "y": [
          91.6
         ]
        },
        {
         "marker": {
          "maxdisplayed": 10
         },
         "mode": "lines+markers",
         "name": "Trial164",
         "type": "scatter",
         "x": [
          1
         ],
         "y": [
          92.53
         ]
        },
        {
         "marker": {
          "maxdisplayed": 10
         },
         "mode": "lines+markers",
         "name": "Trial165",
         "type": "scatter",
         "x": [
          1,
          2,
          3
         ],
         "y": [
          91.31,
          82.8,
          78.67
         ]
        },
        {
         "marker": {
          "maxdisplayed": 10
         },
         "mode": "lines+markers",
         "name": "Trial166",
         "type": "scatter",
         "x": [
          1
         ],
         "y": [
          98.5
         ]
        },
        {
         "marker": {
          "maxdisplayed": 10
         },
         "mode": "lines+markers",
         "name": "Trial167",
         "type": "scatter",
         "x": [
          1
         ],
         "y": [
          92.32
         ]
        },
        {
         "marker": {
          "maxdisplayed": 10
         },
         "mode": "lines+markers",
         "name": "Trial168",
         "type": "scatter",
         "x": [
          1
         ],
         "y": [
          90.38
         ]
        },
        {
         "marker": {
          "maxdisplayed": 10
         },
         "mode": "lines+markers",
         "name": "Trial169",
         "type": "scatter",
         "x": [
          1
         ],
         "y": [
          92.96
         ]
        },
        {
         "marker": {
          "maxdisplayed": 10
         },
         "mode": "lines+markers",
         "name": "Trial170",
         "type": "scatter",
         "x": [
          1,
          2
         ],
         "y": [
          90.53999999999999,
          83.12
         ]
        },
        {
         "marker": {
          "maxdisplayed": 10
         },
         "mode": "lines+markers",
         "name": "Trial172",
         "type": "scatter",
         "x": [
          1
         ],
         "y": [
          90.77
         ]
        },
        {
         "marker": {
          "maxdisplayed": 10
         },
         "mode": "lines+markers",
         "name": "Trial174",
         "type": "scatter",
         "x": [
          1
         ],
         "y": [
          91.03999999999999
         ]
        }
       ],
       "layout": {
        "showlegend": false,
        "template": {
         "data": {
          "bar": [
           {
            "error_x": {
             "color": "#2a3f5f"
            },
            "error_y": {
             "color": "#2a3f5f"
            },
            "marker": {
             "line": {
              "color": "#E5ECF6",
              "width": 0.5
             },
             "pattern": {
              "fillmode": "overlay",
              "size": 10,
              "solidity": 0.2
             }
            },
            "type": "bar"
           }
          ],
          "barpolar": [
           {
            "marker": {
             "line": {
              "color": "#E5ECF6",
              "width": 0.5
             },
             "pattern": {
              "fillmode": "overlay",
              "size": 10,
              "solidity": 0.2
             }
            },
            "type": "barpolar"
           }
          ],
          "carpet": [
           {
            "aaxis": {
             "endlinecolor": "#2a3f5f",
             "gridcolor": "white",
             "linecolor": "white",
             "minorgridcolor": "white",
             "startlinecolor": "#2a3f5f"
            },
            "baxis": {
             "endlinecolor": "#2a3f5f",
             "gridcolor": "white",
             "linecolor": "white",
             "minorgridcolor": "white",
             "startlinecolor": "#2a3f5f"
            },
            "type": "carpet"
           }
          ],
          "choropleth": [
           {
            "colorbar": {
             "outlinewidth": 0,
             "ticks": ""
            },
            "type": "choropleth"
           }
          ],
          "contour": [
           {
            "colorbar": {
             "outlinewidth": 0,
             "ticks": ""
            },
            "colorscale": [
             [
              0,
              "#0d0887"
             ],
             [
              0.1111111111111111,
              "#46039f"
             ],
             [
              0.2222222222222222,
              "#7201a8"
             ],
             [
              0.3333333333333333,
              "#9c179e"
             ],
             [
              0.4444444444444444,
              "#bd3786"
             ],
             [
              0.5555555555555556,
              "#d8576b"
             ],
             [
              0.6666666666666666,
              "#ed7953"
             ],
             [
              0.7777777777777778,
              "#fb9f3a"
             ],
             [
              0.8888888888888888,
              "#fdca26"
             ],
             [
              1,
              "#f0f921"
             ]
            ],
            "type": "contour"
           }
          ],
          "contourcarpet": [
           {
            "colorbar": {
             "outlinewidth": 0,
             "ticks": ""
            },
            "type": "contourcarpet"
           }
          ],
          "heatmap": [
           {
            "colorbar": {
             "outlinewidth": 0,
             "ticks": ""
            },
            "colorscale": [
             [
              0,
              "#0d0887"
             ],
             [
              0.1111111111111111,
              "#46039f"
             ],
             [
              0.2222222222222222,
              "#7201a8"
             ],
             [
              0.3333333333333333,
              "#9c179e"
             ],
             [
              0.4444444444444444,
              "#bd3786"
             ],
             [
              0.5555555555555556,
              "#d8576b"
             ],
             [
              0.6666666666666666,
              "#ed7953"
             ],
             [
              0.7777777777777778,
              "#fb9f3a"
             ],
             [
              0.8888888888888888,
              "#fdca26"
             ],
             [
              1,
              "#f0f921"
             ]
            ],
            "type": "heatmap"
           }
          ],
          "heatmapgl": [
           {
            "colorbar": {
             "outlinewidth": 0,
             "ticks": ""
            },
            "colorscale": [
             [
              0,
              "#0d0887"
             ],
             [
              0.1111111111111111,
              "#46039f"
             ],
             [
              0.2222222222222222,
              "#7201a8"
             ],
             [
              0.3333333333333333,
              "#9c179e"
             ],
             [
              0.4444444444444444,
              "#bd3786"
             ],
             [
              0.5555555555555556,
              "#d8576b"
             ],
             [
              0.6666666666666666,
              "#ed7953"
             ],
             [
              0.7777777777777778,
              "#fb9f3a"
             ],
             [
              0.8888888888888888,
              "#fdca26"
             ],
             [
              1,
              "#f0f921"
             ]
            ],
            "type": "heatmapgl"
           }
          ],
          "histogram": [
           {
            "marker": {
             "pattern": {
              "fillmode": "overlay",
              "size": 10,
              "solidity": 0.2
             }
            },
            "type": "histogram"
           }
          ],
          "histogram2d": [
           {
            "colorbar": {
             "outlinewidth": 0,
             "ticks": ""
            },
            "colorscale": [
             [
              0,
              "#0d0887"
             ],
             [
              0.1111111111111111,
              "#46039f"
             ],
             [
              0.2222222222222222,
              "#7201a8"
             ],
             [
              0.3333333333333333,
              "#9c179e"
             ],
             [
              0.4444444444444444,
              "#bd3786"
             ],
             [
              0.5555555555555556,
              "#d8576b"
             ],
             [
              0.6666666666666666,
              "#ed7953"
             ],
             [
              0.7777777777777778,
              "#fb9f3a"
             ],
             [
              0.8888888888888888,
              "#fdca26"
             ],
             [
              1,
              "#f0f921"
             ]
            ],
            "type": "histogram2d"
           }
          ],
          "histogram2dcontour": [
           {
            "colorbar": {
             "outlinewidth": 0,
             "ticks": ""
            },
            "colorscale": [
             [
              0,
              "#0d0887"
             ],
             [
              0.1111111111111111,
              "#46039f"
             ],
             [
              0.2222222222222222,
              "#7201a8"
             ],
             [
              0.3333333333333333,
              "#9c179e"
             ],
             [
              0.4444444444444444,
              "#bd3786"
             ],
             [
              0.5555555555555556,
              "#d8576b"
             ],
             [
              0.6666666666666666,
              "#ed7953"
             ],
             [
              0.7777777777777778,
              "#fb9f3a"
             ],
             [
              0.8888888888888888,
              "#fdca26"
             ],
             [
              1,
              "#f0f921"
             ]
            ],
            "type": "histogram2dcontour"
           }
          ],
          "mesh3d": [
           {
            "colorbar": {
             "outlinewidth": 0,
             "ticks": ""
            },
            "type": "mesh3d"
           }
          ],
          "parcoords": [
           {
            "line": {
             "colorbar": {
              "outlinewidth": 0,
              "ticks": ""
             }
            },
            "type": "parcoords"
           }
          ],
          "pie": [
           {
            "automargin": true,
            "type": "pie"
           }
          ],
          "scatter": [
           {
            "fillpattern": {
             "fillmode": "overlay",
             "size": 10,
             "solidity": 0.2
            },
            "type": "scatter"
           }
          ],
          "scatter3d": [
           {
            "line": {
             "colorbar": {
              "outlinewidth": 0,
              "ticks": ""
             }
            },
            "marker": {
             "colorbar": {
              "outlinewidth": 0,
              "ticks": ""
             }
            },
            "type": "scatter3d"
           }
          ],
          "scattercarpet": [
           {
            "marker": {
             "colorbar": {
              "outlinewidth": 0,
              "ticks": ""
             }
            },
            "type": "scattercarpet"
           }
          ],
          "scattergeo": [
           {
            "marker": {
             "colorbar": {
              "outlinewidth": 0,
              "ticks": ""
             }
            },
            "type": "scattergeo"
           }
          ],
          "scattergl": [
           {
            "marker": {
             "colorbar": {
              "outlinewidth": 0,
              "ticks": ""
             }
            },
            "type": "scattergl"
           }
          ],
          "scattermapbox": [
           {
            "marker": {
             "colorbar": {
              "outlinewidth": 0,
              "ticks": ""
             }
            },
            "type": "scattermapbox"
           }
          ],
          "scatterpolar": [
           {
            "marker": {
             "colorbar": {
              "outlinewidth": 0,
              "ticks": ""
             }
            },
            "type": "scatterpolar"
           }
          ],
          "scatterpolargl": [
           {
            "marker": {
             "colorbar": {
              "outlinewidth": 0,
              "ticks": ""
             }
            },
            "type": "scatterpolargl"
           }
          ],
          "scatterternary": [
           {
            "marker": {
             "colorbar": {
              "outlinewidth": 0,
              "ticks": ""
             }
            },
            "type": "scatterternary"
           }
          ],
          "surface": [
           {
            "colorbar": {
             "outlinewidth": 0,
             "ticks": ""
            },
            "colorscale": [
             [
              0,
              "#0d0887"
             ],
             [
              0.1111111111111111,
              "#46039f"
             ],
             [
              0.2222222222222222,
              "#7201a8"
             ],
             [
              0.3333333333333333,
              "#9c179e"
             ],
             [
              0.4444444444444444,
              "#bd3786"
             ],
             [
              0.5555555555555556,
              "#d8576b"
             ],
             [
              0.6666666666666666,
              "#ed7953"
             ],
             [
              0.7777777777777778,
              "#fb9f3a"
             ],
             [
              0.8888888888888888,
              "#fdca26"
             ],
             [
              1,
              "#f0f921"
             ]
            ],
            "type": "surface"
           }
          ],
          "table": [
           {
            "cells": {
             "fill": {
              "color": "#EBF0F8"
             },
             "line": {
              "color": "white"
             }
            },
            "header": {
             "fill": {
              "color": "#C8D4E3"
             },
             "line": {
              "color": "white"
             }
            },
            "type": "table"
           }
          ]
         },
         "layout": {
          "annotationdefaults": {
           "arrowcolor": "#2a3f5f",
           "arrowhead": 0,
           "arrowwidth": 1
          },
          "autotypenumbers": "strict",
          "coloraxis": {
           "colorbar": {
            "outlinewidth": 0,
            "ticks": ""
           }
          },
          "colorscale": {
           "diverging": [
            [
             0,
             "#8e0152"
            ],
            [
             0.1,
             "#c51b7d"
            ],
            [
             0.2,
             "#de77ae"
            ],
            [
             0.3,
             "#f1b6da"
            ],
            [
             0.4,
             "#fde0ef"
            ],
            [
             0.5,
             "#f7f7f7"
            ],
            [
             0.6,
             "#e6f5d0"
            ],
            [
             0.7,
             "#b8e186"
            ],
            [
             0.8,
             "#7fbc41"
            ],
            [
             0.9,
             "#4d9221"
            ],
            [
             1,
             "#276419"
            ]
           ],
           "sequential": [
            [
             0,
             "#0d0887"
            ],
            [
             0.1111111111111111,
             "#46039f"
            ],
            [
             0.2222222222222222,
             "#7201a8"
            ],
            [
             0.3333333333333333,
             "#9c179e"
            ],
            [
             0.4444444444444444,
             "#bd3786"
            ],
            [
             0.5555555555555556,
             "#d8576b"
            ],
            [
             0.6666666666666666,
             "#ed7953"
            ],
            [
             0.7777777777777778,
             "#fb9f3a"
            ],
            [
             0.8888888888888888,
             "#fdca26"
            ],
            [
             1,
             "#f0f921"
            ]
           ],
           "sequentialminus": [
            [
             0,
             "#0d0887"
            ],
            [
             0.1111111111111111,
             "#46039f"
            ],
            [
             0.2222222222222222,
             "#7201a8"
            ],
            [
             0.3333333333333333,
             "#9c179e"
            ],
            [
             0.4444444444444444,
             "#bd3786"
            ],
            [
             0.5555555555555556,
             "#d8576b"
            ],
            [
             0.6666666666666666,
             "#ed7953"
            ],
            [
             0.7777777777777778,
             "#fb9f3a"
            ],
            [
             0.8888888888888888,
             "#fdca26"
            ],
            [
             1,
             "#f0f921"
            ]
           ]
          },
          "colorway": [
           "#636efa",
           "#EF553B",
           "#00cc96",
           "#ab63fa",
           "#FFA15A",
           "#19d3f3",
           "#FF6692",
           "#B6E880",
           "#FF97FF",
           "#FECB52"
          ],
          "font": {
           "color": "#2a3f5f"
          },
          "geo": {
           "bgcolor": "white",
           "lakecolor": "white",
           "landcolor": "#E5ECF6",
           "showlakes": true,
           "showland": true,
           "subunitcolor": "white"
          },
          "hoverlabel": {
           "align": "left"
          },
          "hovermode": "closest",
          "mapbox": {
           "style": "light"
          },
          "paper_bgcolor": "white",
          "plot_bgcolor": "#E5ECF6",
          "polar": {
           "angularaxis": {
            "gridcolor": "white",
            "linecolor": "white",
            "ticks": ""
           },
           "bgcolor": "#E5ECF6",
           "radialaxis": {
            "gridcolor": "white",
            "linecolor": "white",
            "ticks": ""
           }
          },
          "scene": {
           "xaxis": {
            "backgroundcolor": "#E5ECF6",
            "gridcolor": "white",
            "gridwidth": 2,
            "linecolor": "white",
            "showbackground": true,
            "ticks": "",
            "zerolinecolor": "white"
           },
           "yaxis": {
            "backgroundcolor": "#E5ECF6",
            "gridcolor": "white",
            "gridwidth": 2,
            "linecolor": "white",
            "showbackground": true,
            "ticks": "",
            "zerolinecolor": "white"
           },
           "zaxis": {
            "backgroundcolor": "#E5ECF6",
            "gridcolor": "white",
            "gridwidth": 2,
            "linecolor": "white",
            "showbackground": true,
            "ticks": "",
            "zerolinecolor": "white"
           }
          },
          "shapedefaults": {
           "line": {
            "color": "#2a3f5f"
           }
          },
          "ternary": {
           "aaxis": {
            "gridcolor": "white",
            "linecolor": "white",
            "ticks": ""
           },
           "baxis": {
            "gridcolor": "white",
            "linecolor": "white",
            "ticks": ""
           },
           "bgcolor": "#E5ECF6",
           "caxis": {
            "gridcolor": "white",
            "linecolor": "white",
            "ticks": ""
           }
          },
          "title": {
           "x": 0.05
          },
          "xaxis": {
           "automargin": true,
           "gridcolor": "white",
           "linecolor": "white",
           "ticks": "",
           "title": {
            "standoff": 15
           },
           "zerolinecolor": "white",
           "zerolinewidth": 2
          },
          "yaxis": {
           "automargin": true,
           "gridcolor": "white",
           "linecolor": "white",
           "ticks": "",
           "title": {
            "standoff": 15
           },
           "zerolinecolor": "white",
           "zerolinewidth": 2
          }
         }
        },
        "title": {
         "text": "Intermediate Values Plot"
        },
        "xaxis": {
         "title": {
          "text": "Step"
         }
        },
        "yaxis": {
         "title": {
          "text": "Intermediate Value"
         }
        }
       }
      },
      "text/html": [
       "<div>                            <div id=\"cb964243-d6fa-45e8-bd29-b0ea515eff99\" class=\"plotly-graph-div\" style=\"height:525px; width:100%;\"></div>            <script type=\"text/javascript\">                require([\"plotly\"], function(Plotly) {                    window.PLOTLYENV=window.PLOTLYENV || {};                                    if (document.getElementById(\"cb964243-d6fa-45e8-bd29-b0ea515eff99\")) {                    Plotly.newPlot(                        \"cb964243-d6fa-45e8-bd29-b0ea515eff99\",                        [{\"marker\":{\"maxdisplayed\":10},\"mode\":\"lines+markers\",\"name\":\"Trial0\",\"x\":[1],\"y\":[91.28],\"type\":\"scatter\"},{\"marker\":{\"maxdisplayed\":10},\"mode\":\"lines+markers\",\"name\":\"Trial1\",\"x\":[1,2,3,4],\"y\":[90.83,82.27,77.83,74.76],\"type\":\"scatter\"},{\"marker\":{\"maxdisplayed\":10},\"mode\":\"lines+markers\",\"name\":\"Trial2\",\"x\":[1],\"y\":[90.88],\"type\":\"scatter\"},{\"marker\":{\"maxdisplayed\":10},\"mode\":\"lines+markers\",\"name\":\"Trial3\",\"x\":[1,2],\"y\":[90.88,83.94],\"type\":\"scatter\"},{\"marker\":{\"maxdisplayed\":10},\"mode\":\"lines+markers\",\"name\":\"Trial4\",\"x\":[1,2,3,4,5,6,7,8,9,10,11,12,13,14,15,16,17,18,19,20,21,22,23,24,25,26,27,28,29,30,31,32,33,34,35,36,37,38,39,40,41,42],\"y\":[90.85,82.32,77.83,74.75,72.05,69.61,66.83,64.84,62.52,61.26,59.25,57.81,56.32,54.85,52.79,51.07,50.8,49.79,48.88,47.33,47.04,47.41,47.22,47.26,47.28,47.18,46.9,47.24,46.32,47.56,46.53,46.82,46.29,46.58,47.01,46.09,46.43,46.07,45.34,45.14,45.47,45.62],\"type\":\"scatter\"},{\"marker\":{\"maxdisplayed\":10},\"mode\":\"lines+markers\",\"name\":\"Trial5\",\"x\":[1],\"y\":[94.37],\"type\":\"scatter\"},{\"marker\":{\"maxdisplayed\":10},\"mode\":\"lines+markers\",\"name\":\"Trial6\",\"x\":[1],\"y\":[92.21],\"type\":\"scatter\"},{\"marker\":{\"maxdisplayed\":10},\"mode\":\"lines+markers\",\"name\":\"Trial7\",\"x\":[1],\"y\":[90.91],\"type\":\"scatter\"},{\"marker\":{\"maxdisplayed\":10},\"mode\":\"lines+markers\",\"name\":\"Trial8\",\"x\":[1,2],\"y\":[90.85,82.75],\"type\":\"scatter\"},{\"marker\":{\"maxdisplayed\":10},\"mode\":\"lines+markers\",\"name\":\"Trial9\",\"x\":[1],\"y\":[91.37],\"type\":\"scatter\"},{\"marker\":{\"maxdisplayed\":10},\"mode\":\"lines+markers\",\"name\":\"Trial10\",\"x\":[1],\"y\":[91.46000000000001],\"type\":\"scatter\"},{\"marker\":{\"maxdisplayed\":10},\"mode\":\"lines+markers\",\"name\":\"Trial11\",\"x\":[1],\"y\":[91.11],\"type\":\"scatter\"},{\"marker\":{\"maxdisplayed\":10},\"mode\":\"lines+markers\",\"name\":\"Trial12\",\"x\":[1],\"y\":[91.4],\"type\":\"scatter\"},{\"marker\":{\"maxdisplayed\":10},\"mode\":\"lines+markers\",\"name\":\"Trial13\",\"x\":[1],\"y\":[91.28],\"type\":\"scatter\"},{\"marker\":{\"maxdisplayed\":10},\"mode\":\"lines+markers\",\"name\":\"Trial14\",\"x\":[1],\"y\":[92.9],\"type\":\"scatter\"},{\"marker\":{\"maxdisplayed\":10},\"mode\":\"lines+markers\",\"name\":\"Trial15\",\"x\":[1,2],\"y\":[90.94,83.84],\"type\":\"scatter\"},{\"marker\":{\"maxdisplayed\":10},\"mode\":\"lines+markers\",\"name\":\"Trial16\",\"x\":[1,2],\"y\":[90.02,83.22],\"type\":\"scatter\"},{\"marker\":{\"maxdisplayed\":10},\"mode\":\"lines+markers\",\"name\":\"Trial17\",\"x\":[1],\"y\":[91.9],\"type\":\"scatter\"},{\"marker\":{\"maxdisplayed\":10},\"mode\":\"lines+markers\",\"name\":\"Trial18\",\"x\":[1],\"y\":[91.37],\"type\":\"scatter\"},{\"marker\":{\"maxdisplayed\":10},\"mode\":\"lines+markers\",\"name\":\"Trial19\",\"x\":[1],\"y\":[92.37],\"type\":\"scatter\"},{\"marker\":{\"maxdisplayed\":10},\"mode\":\"lines+markers\",\"name\":\"Trial20\",\"x\":[1,2,3,4,5,6,7,8,9,10,11,12,13,14,15,16,17,18,19,20,21,22,23,24,25,26,27,28,29,30,31,32,33],\"y\":[90.66,82.57,77.21000000000001,74.53999999999999,70.84,68.47,66.25999999999999,63.99,62.07,59.97,56.29,56.04,53.34,52.47,51.98,50.09,48.32,48.23,46.38,47.12,45.27,44.94,45.31,45.06,44.32,44.26,45.07,44.45,43.71,44.36,44.77,43.1,43.56],\"type\":\"scatter\"},{\"marker\":{\"maxdisplayed\":10},\"mode\":\"lines+markers\",\"name\":\"Trial21\",\"x\":[1,2],\"y\":[90.74,83.53],\"type\":\"scatter\"},{\"marker\":{\"maxdisplayed\":10},\"mode\":\"lines+markers\",\"name\":\"Trial22\",\"x\":[1,2],\"y\":[90.87,82.77],\"type\":\"scatter\"},{\"marker\":{\"maxdisplayed\":10},\"mode\":\"lines+markers\",\"name\":\"Trial23\",\"x\":[1],\"y\":[91.69],\"type\":\"scatter\"},{\"marker\":{\"maxdisplayed\":10},\"mode\":\"lines+markers\",\"name\":\"Trial24\",\"x\":[1],\"y\":[92.3],\"type\":\"scatter\"},{\"marker\":{\"maxdisplayed\":10},\"mode\":\"lines+markers\",\"name\":\"Trial25\",\"x\":[1],\"y\":[91.64],\"type\":\"scatter\"},{\"marker\":{\"maxdisplayed\":10},\"mode\":\"lines+markers\",\"name\":\"Trial26\",\"x\":[1],\"y\":[92.49],\"type\":\"scatter\"},{\"marker\":{\"maxdisplayed\":10},\"mode\":\"lines+markers\",\"name\":\"Trial27\",\"x\":[1],\"y\":[93.96],\"type\":\"scatter\"},{\"marker\":{\"maxdisplayed\":10},\"mode\":\"lines+markers\",\"name\":\"Trial28\",\"x\":[1,2],\"y\":[91.19,82.82],\"type\":\"scatter\"},{\"marker\":{\"maxdisplayed\":10},\"mode\":\"lines+markers\",\"name\":\"Trial29\",\"x\":[1],\"y\":[91.56],\"type\":\"scatter\"},{\"marker\":{\"maxdisplayed\":10},\"mode\":\"lines+markers\",\"name\":\"Trial30\",\"x\":[1],\"y\":[91.72],\"type\":\"scatter\"},{\"marker\":{\"maxdisplayed\":10},\"mode\":\"lines+markers\",\"name\":\"Trial31\",\"x\":[1],\"y\":[92.1],\"type\":\"scatter\"},{\"marker\":{\"maxdisplayed\":10},\"mode\":\"lines+markers\",\"name\":\"Trial32\",\"x\":[1],\"y\":[91.59],\"type\":\"scatter\"},{\"marker\":{\"maxdisplayed\":10},\"mode\":\"lines+markers\",\"name\":\"Trial33\",\"x\":[1,2,3,4],\"y\":[90.98,82.38,77.32,75.19],\"type\":\"scatter\"},{\"marker\":{\"maxdisplayed\":10},\"mode\":\"lines+markers\",\"name\":\"Trial34\",\"x\":[1,2,3,4,5,6,7,8],\"y\":[91.02,82.41,77.65,74.63,71.95,69.07,66.78999999999999,65.18],\"type\":\"scatter\"},{\"marker\":{\"maxdisplayed\":10},\"mode\":\"lines+markers\",\"name\":\"Trial35\",\"x\":[1,2],\"y\":[90.84,83.88],\"type\":\"scatter\"},{\"marker\":{\"maxdisplayed\":10},\"mode\":\"lines+markers\",\"name\":\"Trial36\",\"x\":[1,2],\"y\":[90.78999999999999,83.88],\"type\":\"scatter\"},{\"marker\":{\"maxdisplayed\":10},\"mode\":\"lines+markers\",\"name\":\"Trial37\",\"x\":[1],\"y\":[92.68],\"type\":\"scatter\"},{\"marker\":{\"maxdisplayed\":10},\"mode\":\"lines+markers\",\"name\":\"Trial38\",\"x\":[1],\"y\":[98.37],\"type\":\"scatter\"},{\"marker\":{\"maxdisplayed\":10},\"mode\":\"lines+markers\",\"name\":\"Trial39\",\"x\":[1,2],\"y\":[90.64,83.32],\"type\":\"scatter\"},{\"marker\":{\"maxdisplayed\":10},\"mode\":\"lines+markers\",\"name\":\"Trial41\",\"x\":[1],\"y\":[91.43],\"type\":\"scatter\"},{\"marker\":{\"maxdisplayed\":10},\"mode\":\"lines+markers\",\"name\":\"Trial42\",\"x\":[1],\"y\":[92.6],\"type\":\"scatter\"},{\"marker\":{\"maxdisplayed\":10},\"mode\":\"lines+markers\",\"name\":\"Trial43\",\"x\":[1],\"y\":[93.06],\"type\":\"scatter\"},{\"marker\":{\"maxdisplayed\":10},\"mode\":\"lines+markers\",\"name\":\"Trial44\",\"x\":[1,2],\"y\":[90.88,83.75],\"type\":\"scatter\"},{\"marker\":{\"maxdisplayed\":10},\"mode\":\"lines+markers\",\"name\":\"Trial45\",\"x\":[1],\"y\":[94.19],\"type\":\"scatter\"},{\"marker\":{\"maxdisplayed\":10},\"mode\":\"lines+markers\",\"name\":\"Trial46\",\"x\":[1,2,3,4],\"y\":[90.89,82.82,78.2,75.09],\"type\":\"scatter\"},{\"marker\":{\"maxdisplayed\":10},\"mode\":\"lines+markers\",\"name\":\"Trial47\",\"x\":[1],\"y\":[94.74],\"type\":\"scatter\"},{\"marker\":{\"maxdisplayed\":10},\"mode\":\"lines+markers\",\"name\":\"Trial48\",\"x\":[1],\"y\":[91.6],\"type\":\"scatter\"},{\"marker\":{\"maxdisplayed\":10},\"mode\":\"lines+markers\",\"name\":\"Trial49\",\"x\":[1,2],\"y\":[91.37,83.49],\"type\":\"scatter\"},{\"marker\":{\"maxdisplayed\":10},\"mode\":\"lines+markers\",\"name\":\"Trial50\",\"x\":[1],\"y\":[92.65],\"type\":\"scatter\"},{\"marker\":{\"maxdisplayed\":10},\"mode\":\"lines+markers\",\"name\":\"Trial51\",\"x\":[1],\"y\":[91.59],\"type\":\"scatter\"},{\"marker\":{\"maxdisplayed\":10},\"mode\":\"lines+markers\",\"name\":\"Trial52\",\"x\":[1,2],\"y\":[90.8,84.37],\"type\":\"scatter\"},{\"marker\":{\"maxdisplayed\":10},\"mode\":\"lines+markers\",\"name\":\"Trial53\",\"x\":[1,2],\"y\":[90.76,83.52],\"type\":\"scatter\"},{\"marker\":{\"maxdisplayed\":10},\"mode\":\"lines+markers\",\"name\":\"Trial54\",\"x\":[1],\"y\":[92.7],\"type\":\"scatter\"},{\"marker\":{\"maxdisplayed\":10},\"mode\":\"lines+markers\",\"name\":\"Trial55\",\"x\":[1],\"y\":[96.82],\"type\":\"scatter\"},{\"marker\":{\"maxdisplayed\":10},\"mode\":\"lines+markers\",\"name\":\"Trial56\",\"x\":[1,2,3,4],\"y\":[90.91,82.44,77.26,75.21000000000001],\"type\":\"scatter\"},{\"marker\":{\"maxdisplayed\":10},\"mode\":\"lines+markers\",\"name\":\"Trial57\",\"x\":[1,2,3,4,5,6,7,8],\"y\":[90.52,83.01,77.7,74.58,72.02,69.69,66.75,65.14],\"type\":\"scatter\"},{\"marker\":{\"maxdisplayed\":10},\"mode\":\"lines+markers\",\"name\":\"Trial58\",\"x\":[1,2,3,4],\"y\":[91.36,83.21000000000001,79.49,75.69],\"type\":\"scatter\"},{\"marker\":{\"maxdisplayed\":10},\"mode\":\"lines+markers\",\"name\":\"Trial59\",\"x\":[1],\"y\":[97.46],\"type\":\"scatter\"},{\"marker\":{\"maxdisplayed\":10},\"mode\":\"lines+markers\",\"name\":\"Trial60\",\"x\":[1,2],\"y\":[90.74,83.61],\"type\":\"scatter\"},{\"marker\":{\"maxdisplayed\":10},\"mode\":\"lines+markers\",\"name\":\"Trial61\",\"x\":[1,2],\"y\":[90.5,83.74],\"type\":\"scatter\"},{\"marker\":{\"maxdisplayed\":10},\"mode\":\"lines+markers\",\"name\":\"Trial62\",\"x\":[1],\"y\":[96.38],\"type\":\"scatter\"},{\"marker\":{\"maxdisplayed\":10},\"mode\":\"lines+markers\",\"name\":\"Trial63\",\"x\":[1],\"y\":[94.06],\"type\":\"scatter\"},{\"marker\":{\"maxdisplayed\":10},\"mode\":\"lines+markers\",\"name\":\"Trial64\",\"x\":[1],\"y\":[92.76],\"type\":\"scatter\"},{\"marker\":{\"maxdisplayed\":10},\"mode\":\"lines+markers\",\"name\":\"Trial65\",\"x\":[1,2],\"y\":[90.99,83.45],\"type\":\"scatter\"},{\"marker\":{\"maxdisplayed\":10},\"mode\":\"lines+markers\",\"name\":\"Trial66\",\"x\":[1],\"y\":[92.4],\"type\":\"scatter\"},{\"marker\":{\"maxdisplayed\":10},\"mode\":\"lines+markers\",\"name\":\"Trial67\",\"x\":[1],\"y\":[92.17],\"type\":\"scatter\"},{\"marker\":{\"maxdisplayed\":10},\"mode\":\"lines+markers\",\"name\":\"Trial68\",\"x\":[1],\"y\":[91.38],\"type\":\"scatter\"},{\"marker\":{\"maxdisplayed\":10},\"mode\":\"lines+markers\",\"name\":\"Trial69\",\"x\":[1,2],\"y\":[91.21000000000001,83.65],\"type\":\"scatter\"},{\"marker\":{\"maxdisplayed\":10},\"mode\":\"lines+markers\",\"name\":\"Trial70\",\"x\":[1],\"y\":[92.14],\"type\":\"scatter\"},{\"marker\":{\"maxdisplayed\":10},\"mode\":\"lines+markers\",\"name\":\"Trial71\",\"x\":[1,2,3,4],\"y\":[91.27,83.21000000000001,78.28,75.76],\"type\":\"scatter\"},{\"marker\":{\"maxdisplayed\":10},\"mode\":\"lines+markers\",\"name\":\"Trial72\",\"x\":[1,2],\"y\":[91.17,83.53999999999999],\"type\":\"scatter\"},{\"marker\":{\"maxdisplayed\":10},\"mode\":\"lines+markers\",\"name\":\"Trial73\",\"x\":[1],\"y\":[93.03],\"type\":\"scatter\"},{\"marker\":{\"maxdisplayed\":10},\"mode\":\"lines+markers\",\"name\":\"Trial74\",\"x\":[1],\"y\":[92.07],\"type\":\"scatter\"},{\"marker\":{\"maxdisplayed\":10},\"mode\":\"lines+markers\",\"name\":\"Trial75\",\"x\":[1],\"y\":[92.7],\"type\":\"scatter\"},{\"marker\":{\"maxdisplayed\":10},\"mode\":\"lines+markers\",\"name\":\"Trial76\",\"x\":[1,2],\"y\":[91.27,83.74],\"type\":\"scatter\"},{\"marker\":{\"maxdisplayed\":10},\"mode\":\"lines+markers\",\"name\":\"Trial77\",\"x\":[1,2],\"y\":[90.78999999999999,83.37],\"type\":\"scatter\"},{\"marker\":{\"maxdisplayed\":10},\"mode\":\"lines+markers\",\"name\":\"Trial78\",\"x\":[1],\"y\":[99.0],\"type\":\"scatter\"},{\"marker\":{\"maxdisplayed\":10},\"mode\":\"lines+markers\",\"name\":\"Trial79\",\"x\":[1],\"y\":[92.02],\"type\":\"scatter\"},{\"marker\":{\"maxdisplayed\":10},\"mode\":\"lines+markers\",\"name\":\"Trial80\",\"x\":[1,2,3,4],\"y\":[90.9,82.43,77.24,75.21000000000001],\"type\":\"scatter\"},{\"marker\":{\"maxdisplayed\":10},\"mode\":\"lines+markers\",\"name\":\"Trial81\",\"x\":[1],\"y\":[98.22],\"type\":\"scatter\"},{\"marker\":{\"maxdisplayed\":10},\"mode\":\"lines+markers\",\"name\":\"Trial82\",\"x\":[1,2],\"y\":[90.73,83.46000000000001],\"type\":\"scatter\"},{\"marker\":{\"maxdisplayed\":10},\"mode\":\"lines+markers\",\"name\":\"Trial83\",\"x\":[1],\"y\":[96.78],\"type\":\"scatter\"},{\"marker\":{\"maxdisplayed\":10},\"mode\":\"lines+markers\",\"name\":\"Trial84\",\"x\":[1],\"y\":[92.64],\"type\":\"scatter\"},{\"marker\":{\"maxdisplayed\":10},\"mode\":\"lines+markers\",\"name\":\"Trial85\",\"x\":[1,2,3,4,5,6,7,8,9,10,11,12,13,14,15,16,17,18,19],\"y\":[90.88,82.5,77.62,74.64,70.47,68.63,64.49000000000001,63.54,61.4,58.99,57.16,56.75,54.06,52.35,51.86,49.78,48.17,48.07,46.9],\"type\":\"scatter\"},{\"marker\":{\"maxdisplayed\":10},\"mode\":\"lines+markers\",\"name\":\"Trial86\",\"x\":[1,2],\"y\":[90.76,83.53],\"type\":\"scatter\"},{\"marker\":{\"maxdisplayed\":10},\"mode\":\"lines+markers\",\"name\":\"Trial87\",\"x\":[1],\"y\":[93.02],\"type\":\"scatter\"},{\"marker\":{\"maxdisplayed\":10},\"mode\":\"lines+markers\",\"name\":\"Trial88\",\"x\":[1,2],\"y\":[90.61,83.44],\"type\":\"scatter\"},{\"marker\":{\"maxdisplayed\":10},\"mode\":\"lines+markers\",\"name\":\"Trial89\",\"x\":[1],\"y\":[92.29],\"type\":\"scatter\"},{\"marker\":{\"maxdisplayed\":10},\"mode\":\"lines+markers\",\"name\":\"Trial90\",\"x\":[1,2,3,4,5,6,7,8,9,10,11,12,13,14,15,16],\"y\":[90.21000000000001,83.05,78.74,74.44,72.28999999999999,69.38,67.7,64.81,63.87,61.67,59.78,58.06,56.61,53.48,52.82,52.49],\"type\":\"scatter\"},{\"marker\":{\"maxdisplayed\":10},\"mode\":\"lines+markers\",\"name\":\"Trial91\",\"x\":[1,2],\"y\":[90.68,83.4],\"type\":\"scatter\"},{\"marker\":{\"maxdisplayed\":10},\"mode\":\"lines+markers\",\"name\":\"Trial92\",\"x\":[1],\"y\":[93.61],\"type\":\"scatter\"},{\"marker\":{\"maxdisplayed\":10},\"mode\":\"lines+markers\",\"name\":\"Trial93\",\"x\":[1,2,3,4,5,6,7,8],\"y\":[90.87,82.26,77.91,74.75,71.97,69.49,66.93,65.03],\"type\":\"scatter\"},{\"marker\":{\"maxdisplayed\":10},\"mode\":\"lines+markers\",\"name\":\"Trial94\",\"x\":[1],\"y\":[92.1],\"type\":\"scatter\"},{\"marker\":{\"maxdisplayed\":10},\"mode\":\"lines+markers\",\"name\":\"Trial95\",\"x\":[1],\"y\":[91.9],\"type\":\"scatter\"},{\"marker\":{\"maxdisplayed\":10},\"mode\":\"lines+markers\",\"name\":\"Trial96\",\"x\":[1,2,3,4],\"y\":[91.38,82.89,78.69,75.84],\"type\":\"scatter\"},{\"marker\":{\"maxdisplayed\":10},\"mode\":\"lines+markers\",\"name\":\"Trial97\",\"x\":[1],\"y\":[92.34],\"type\":\"scatter\"},{\"marker\":{\"maxdisplayed\":10},\"mode\":\"lines+markers\",\"name\":\"Trial98\",\"x\":[1],\"y\":[92.86],\"type\":\"scatter\"},{\"marker\":{\"maxdisplayed\":10},\"mode\":\"lines+markers\",\"name\":\"Trial99\",\"x\":[1],\"y\":[97.34],\"type\":\"scatter\"},{\"marker\":{\"maxdisplayed\":10},\"mode\":\"lines+markers\",\"name\":\"Trial100\",\"x\":[1,2,3,4],\"y\":[90.85,82.32,77.84,74.78],\"type\":\"scatter\"},{\"marker\":{\"maxdisplayed\":10},\"mode\":\"lines+markers\",\"name\":\"Trial101\",\"x\":[1],\"y\":[92.57],\"type\":\"scatter\"},{\"marker\":{\"maxdisplayed\":10},\"mode\":\"lines+markers\",\"name\":\"Trial102\",\"x\":[1,2],\"y\":[91.27,84.19],\"type\":\"scatter\"},{\"marker\":{\"maxdisplayed\":10},\"mode\":\"lines+markers\",\"name\":\"Trial103\",\"x\":[1,2],\"y\":[90.73,83.44],\"type\":\"scatter\"},{\"marker\":{\"maxdisplayed\":10},\"mode\":\"lines+markers\",\"name\":\"Trial104\",\"x\":[1,2],\"y\":[90.55,83.38],\"type\":\"scatter\"},{\"marker\":{\"maxdisplayed\":10},\"mode\":\"lines+markers\",\"name\":\"Trial105\",\"x\":[1],\"y\":[92.15],\"type\":\"scatter\"},{\"marker\":{\"maxdisplayed\":10},\"mode\":\"lines+markers\",\"name\":\"Trial106\",\"x\":[1,2,3,4,5,6,7,8],\"y\":[90.86,82.72,77.85,74.4,71.3,68.74,65.50999999999999,65.3],\"type\":\"scatter\"},{\"marker\":{\"maxdisplayed\":10},\"mode\":\"lines+markers\",\"name\":\"Trial107\",\"x\":[1],\"y\":[97.68],\"type\":\"scatter\"},{\"marker\":{\"maxdisplayed\":10},\"mode\":\"lines+markers\",\"name\":\"Trial108\",\"x\":[1,2],\"y\":[91.39,83.81],\"type\":\"scatter\"},{\"marker\":{\"maxdisplayed\":10},\"mode\":\"lines+markers\",\"name\":\"Trial109\",\"x\":[1,2],\"y\":[90.24,83.41],\"type\":\"scatter\"},{\"marker\":{\"maxdisplayed\":10},\"mode\":\"lines+markers\",\"name\":\"Trial110\",\"x\":[1],\"y\":[92.89],\"type\":\"scatter\"},{\"marker\":{\"maxdisplayed\":10},\"mode\":\"lines+markers\",\"name\":\"Trial111\",\"x\":[1],\"y\":[98.68],\"type\":\"scatter\"},{\"marker\":{\"maxdisplayed\":10},\"mode\":\"lines+markers\",\"name\":\"Trial112\",\"x\":[1],\"y\":[97.75],\"type\":\"scatter\"},{\"marker\":{\"maxdisplayed\":10},\"mode\":\"lines+markers\",\"name\":\"Trial113\",\"x\":[1,2],\"y\":[90.32,83.61],\"type\":\"scatter\"},{\"marker\":{\"maxdisplayed\":10},\"mode\":\"lines+markers\",\"name\":\"Trial114\",\"x\":[1],\"y\":[92.01],\"type\":\"scatter\"},{\"marker\":{\"maxdisplayed\":10},\"mode\":\"lines+markers\",\"name\":\"Trial115\",\"x\":[1,2],\"y\":[91.37,83.52],\"type\":\"scatter\"},{\"marker\":{\"maxdisplayed\":10},\"mode\":\"lines+markers\",\"name\":\"Trial116\",\"x\":[1],\"y\":[96.82],\"type\":\"scatter\"},{\"marker\":{\"maxdisplayed\":10},\"mode\":\"lines+markers\",\"name\":\"Trial117\",\"x\":[1],\"y\":[98.9],\"type\":\"scatter\"},{\"marker\":{\"maxdisplayed\":10},\"mode\":\"lines+markers\",\"name\":\"Trial118\",\"x\":[1],\"y\":[91.45],\"type\":\"scatter\"},{\"marker\":{\"maxdisplayed\":10},\"mode\":\"lines+markers\",\"name\":\"Trial119\",\"x\":[1],\"y\":[91.78999999999999],\"type\":\"scatter\"},{\"marker\":{\"maxdisplayed\":10},\"mode\":\"lines+markers\",\"name\":\"Trial120\",\"x\":[1],\"y\":[97.24],\"type\":\"scatter\"},{\"marker\":{\"maxdisplayed\":10},\"mode\":\"lines+markers\",\"name\":\"Trial121\",\"x\":[1],\"y\":[91.59],\"type\":\"scatter\"},{\"marker\":{\"maxdisplayed\":10},\"mode\":\"lines+markers\",\"name\":\"Trial122\",\"x\":[1,2,3,4,5,6,7,8,9,10,11,12,13,14,15],\"y\":[90.59,83.05,77.38,73.41,70.72,68.03999999999999,65.58,63.59,59.58,57.76,56.29,53.97,51.25,51.27,50.14],\"type\":\"scatter\"},{\"marker\":{\"maxdisplayed\":10},\"mode\":\"lines+markers\",\"name\":\"Trial123\",\"x\":[1],\"y\":[91.65],\"type\":\"scatter\"},{\"marker\":{\"maxdisplayed\":10},\"mode\":\"lines+markers\",\"name\":\"Trial124\",\"x\":[1],\"y\":[92.53],\"type\":\"scatter\"},{\"marker\":{\"maxdisplayed\":10},\"mode\":\"lines+markers\",\"name\":\"Trial125\",\"x\":[1,2,3,4,5,6,7,8],\"y\":[90.43,82.96000000000001,77.78,74.73,72.03999999999999,69.14,66.7,65.34],\"type\":\"scatter\"},{\"marker\":{\"maxdisplayed\":10},\"mode\":\"lines+markers\",\"name\":\"Trial126\",\"x\":[1,2],\"y\":[90.55,84.02],\"type\":\"scatter\"},{\"marker\":{\"maxdisplayed\":10},\"mode\":\"lines+markers\",\"name\":\"Trial127\",\"x\":[1,2],\"y\":[90.76,83.48],\"type\":\"scatter\"},{\"marker\":{\"maxdisplayed\":10},\"mode\":\"lines+markers\",\"name\":\"Trial128\",\"x\":[1],\"y\":[93.75],\"type\":\"scatter\"},{\"marker\":{\"maxdisplayed\":10},\"mode\":\"lines+markers\",\"name\":\"Trial129\",\"x\":[1],\"y\":[96.46],\"type\":\"scatter\"},{\"marker\":{\"maxdisplayed\":10},\"mode\":\"lines+markers\",\"name\":\"Trial130\",\"x\":[1,2],\"y\":[91.05,83.69],\"type\":\"scatter\"},{\"marker\":{\"maxdisplayed\":10},\"mode\":\"lines+markers\",\"name\":\"Trial131\",\"x\":[1,2],\"y\":[91.2,83.82],\"type\":\"scatter\"},{\"marker\":{\"maxdisplayed\":10},\"mode\":\"lines+markers\",\"name\":\"Trial132\",\"x\":[1,2,3,4,5,6,7,8],\"y\":[90.89,82.37,77.7,74.73,71.73,68.95,66.49000000000001,64.97],\"type\":\"scatter\"},{\"marker\":{\"maxdisplayed\":10},\"mode\":\"lines+markers\",\"name\":\"Trial133\",\"x\":[1,2,3,4,5,6,7,8,9,10,11,12,13,14,15],\"y\":[91.31,82.2,78.15,73.97,71.36,68.27,65.91,63.71,61.89,60.65,58.56,56.31,54.89,52.31,52.65],\"type\":\"scatter\"},{\"marker\":{\"maxdisplayed\":10},\"mode\":\"lines+markers\",\"name\":\"Trial134\",\"x\":[1,2,3,4],\"y\":[90.73,83.33,78.88,75.9],\"type\":\"scatter\"},{\"marker\":{\"maxdisplayed\":10},\"mode\":\"lines+markers\",\"name\":\"Trial135\",\"x\":[1,2,3,4],\"y\":[91.03999999999999,82.9,78.4,76.26],\"type\":\"scatter\"},{\"marker\":{\"maxdisplayed\":10},\"mode\":\"lines+markers\",\"name\":\"Trial136\",\"x\":[1,2,3,4],\"y\":[91.35,82.61,78.45,76.56],\"type\":\"scatter\"},{\"marker\":{\"maxdisplayed\":10},\"mode\":\"lines+markers\",\"name\":\"Trial137\",\"x\":[1,2,3,4,5,6,7,8],\"y\":[90.64,83.37,77.74,74.52,72.12,69.34,67.24000000000001,65.36],\"type\":\"scatter\"},{\"marker\":{\"maxdisplayed\":10},\"mode\":\"lines+markers\",\"name\":\"Trial138\",\"x\":[1],\"y\":[91.78],\"type\":\"scatter\"},{\"marker\":{\"maxdisplayed\":10},\"mode\":\"lines+markers\",\"name\":\"Trial139\",\"x\":[1],\"y\":[98.89],\"type\":\"scatter\"},{\"marker\":{\"maxdisplayed\":10},\"mode\":\"lines+markers\",\"name\":\"Trial140\",\"x\":[1],\"y\":[92.98],\"type\":\"scatter\"},{\"marker\":{\"maxdisplayed\":10},\"mode\":\"lines+markers\",\"name\":\"Trial141\",\"x\":[1,2,3,4],\"y\":[90.96000000000001,82.66,78.45,74.92],\"type\":\"scatter\"},{\"marker\":{\"maxdisplayed\":10},\"mode\":\"lines+markers\",\"name\":\"Trial142\",\"x\":[1],\"y\":[91.53999999999999],\"type\":\"scatter\"},{\"marker\":{\"maxdisplayed\":10},\"mode\":\"lines+markers\",\"name\":\"Trial143\",\"x\":[1],\"y\":[92.16],\"type\":\"scatter\"},{\"marker\":{\"maxdisplayed\":10},\"mode\":\"lines+markers\",\"name\":\"Trial144\",\"x\":[1,2],\"y\":[91.38,83.75],\"type\":\"scatter\"},{\"marker\":{\"maxdisplayed\":10},\"mode\":\"lines+markers\",\"name\":\"Trial145\",\"x\":[1,2,3,4,5,6,7,8],\"y\":[90.57,83.27,79.1,73.82,70.96000000000001,70.38,65.07,63.61],\"type\":\"scatter\"},{\"marker\":{\"maxdisplayed\":10},\"mode\":\"lines+markers\",\"name\":\"Trial146\",\"x\":[1],\"y\":[91.98],\"type\":\"scatter\"},{\"marker\":{\"maxdisplayed\":10},\"mode\":\"lines+markers\",\"name\":\"Trial147\",\"x\":[1,2,3,4,5],\"y\":[91.37,83.14,78.89,74.46000000000001,70.43],\"type\":\"scatter\"},{\"marker\":{\"maxdisplayed\":10},\"mode\":\"lines+markers\",\"name\":\"Trial148\",\"x\":[1],\"y\":[91.9],\"type\":\"scatter\"},{\"marker\":{\"maxdisplayed\":10},\"mode\":\"lines+markers\",\"name\":\"Trial149\",\"x\":[1],\"y\":[92.66],\"type\":\"scatter\"},{\"marker\":{\"maxdisplayed\":10},\"mode\":\"lines+markers\",\"name\":\"Trial150\",\"x\":[1,2,3,4],\"y\":[90.97,83.31,78.21000000000001,75.59],\"type\":\"scatter\"},{\"marker\":{\"maxdisplayed\":10},\"mode\":\"lines+markers\",\"name\":\"Trial151\",\"x\":[1,2],\"y\":[90.78,83.62],\"type\":\"scatter\"},{\"marker\":{\"maxdisplayed\":10},\"mode\":\"lines+markers\",\"name\":\"Trial152\",\"x\":[1,2],\"y\":[91.34,84.34],\"type\":\"scatter\"},{\"marker\":{\"maxdisplayed\":10},\"mode\":\"lines+markers\",\"name\":\"Trial153\",\"x\":[1,2],\"y\":[91.23,83.51],\"type\":\"scatter\"},{\"marker\":{\"maxdisplayed\":10},\"mode\":\"lines+markers\",\"name\":\"Trial154\",\"x\":[1,2,3,4],\"y\":[90.91,82.44,77.27,75.2],\"type\":\"scatter\"},{\"marker\":{\"maxdisplayed\":10},\"mode\":\"lines+markers\",\"name\":\"Trial156\",\"x\":[1,2],\"y\":[90.67,83.8],\"type\":\"scatter\"},{\"marker\":{\"maxdisplayed\":10},\"mode\":\"lines+markers\",\"name\":\"Trial157\",\"x\":[1],\"y\":[93.91],\"type\":\"scatter\"},{\"marker\":{\"maxdisplayed\":10},\"mode\":\"lines+markers\",\"name\":\"Trial158\",\"x\":[1],\"y\":[92.07],\"type\":\"scatter\"},{\"marker\":{\"maxdisplayed\":10},\"mode\":\"lines+markers\",\"name\":\"Trial159\",\"x\":[1,2],\"y\":[91.31,84.26],\"type\":\"scatter\"},{\"marker\":{\"maxdisplayed\":10},\"mode\":\"lines+markers\",\"name\":\"Trial160\",\"x\":[1],\"y\":[96.91],\"type\":\"scatter\"},{\"marker\":{\"maxdisplayed\":10},\"mode\":\"lines+markers\",\"name\":\"Trial161\",\"x\":[1],\"y\":[93.65],\"type\":\"scatter\"},{\"marker\":{\"maxdisplayed\":10},\"mode\":\"lines+markers\",\"name\":\"Trial162\",\"x\":[1,2],\"y\":[90.73,83.4],\"type\":\"scatter\"},{\"marker\":{\"maxdisplayed\":10},\"mode\":\"lines+markers\",\"name\":\"Trial163\",\"x\":[1],\"y\":[91.6],\"type\":\"scatter\"},{\"marker\":{\"maxdisplayed\":10},\"mode\":\"lines+markers\",\"name\":\"Trial164\",\"x\":[1],\"y\":[92.53],\"type\":\"scatter\"},{\"marker\":{\"maxdisplayed\":10},\"mode\":\"lines+markers\",\"name\":\"Trial165\",\"x\":[1,2,3],\"y\":[91.31,82.8,78.67],\"type\":\"scatter\"},{\"marker\":{\"maxdisplayed\":10},\"mode\":\"lines+markers\",\"name\":\"Trial166\",\"x\":[1],\"y\":[98.5],\"type\":\"scatter\"},{\"marker\":{\"maxdisplayed\":10},\"mode\":\"lines+markers\",\"name\":\"Trial167\",\"x\":[1],\"y\":[92.32],\"type\":\"scatter\"},{\"marker\":{\"maxdisplayed\":10},\"mode\":\"lines+markers\",\"name\":\"Trial168\",\"x\":[1],\"y\":[90.38],\"type\":\"scatter\"},{\"marker\":{\"maxdisplayed\":10},\"mode\":\"lines+markers\",\"name\":\"Trial169\",\"x\":[1],\"y\":[92.96],\"type\":\"scatter\"},{\"marker\":{\"maxdisplayed\":10},\"mode\":\"lines+markers\",\"name\":\"Trial170\",\"x\":[1,2],\"y\":[90.53999999999999,83.12],\"type\":\"scatter\"},{\"marker\":{\"maxdisplayed\":10},\"mode\":\"lines+markers\",\"name\":\"Trial172\",\"x\":[1],\"y\":[90.77],\"type\":\"scatter\"},{\"marker\":{\"maxdisplayed\":10},\"mode\":\"lines+markers\",\"name\":\"Trial174\",\"x\":[1],\"y\":[91.03999999999999],\"type\":\"scatter\"}],                        {\"showlegend\":false,\"title\":{\"text\":\"Intermediate Values Plot\"},\"xaxis\":{\"title\":{\"text\":\"Step\"}},\"yaxis\":{\"title\":{\"text\":\"Intermediate Value\"}},\"template\":{\"data\":{\"histogram2dcontour\":[{\"type\":\"histogram2dcontour\",\"colorbar\":{\"outlinewidth\":0,\"ticks\":\"\"},\"colorscale\":[[0.0,\"#0d0887\"],[0.1111111111111111,\"#46039f\"],[0.2222222222222222,\"#7201a8\"],[0.3333333333333333,\"#9c179e\"],[0.4444444444444444,\"#bd3786\"],[0.5555555555555556,\"#d8576b\"],[0.6666666666666666,\"#ed7953\"],[0.7777777777777778,\"#fb9f3a\"],[0.8888888888888888,\"#fdca26\"],[1.0,\"#f0f921\"]]}],\"choropleth\":[{\"type\":\"choropleth\",\"colorbar\":{\"outlinewidth\":0,\"ticks\":\"\"}}],\"histogram2d\":[{\"type\":\"histogram2d\",\"colorbar\":{\"outlinewidth\":0,\"ticks\":\"\"},\"colorscale\":[[0.0,\"#0d0887\"],[0.1111111111111111,\"#46039f\"],[0.2222222222222222,\"#7201a8\"],[0.3333333333333333,\"#9c179e\"],[0.4444444444444444,\"#bd3786\"],[0.5555555555555556,\"#d8576b\"],[0.6666666666666666,\"#ed7953\"],[0.7777777777777778,\"#fb9f3a\"],[0.8888888888888888,\"#fdca26\"],[1.0,\"#f0f921\"]]}],\"heatmap\":[{\"type\":\"heatmap\",\"colorbar\":{\"outlinewidth\":0,\"ticks\":\"\"},\"colorscale\":[[0.0,\"#0d0887\"],[0.1111111111111111,\"#46039f\"],[0.2222222222222222,\"#7201a8\"],[0.3333333333333333,\"#9c179e\"],[0.4444444444444444,\"#bd3786\"],[0.5555555555555556,\"#d8576b\"],[0.6666666666666666,\"#ed7953\"],[0.7777777777777778,\"#fb9f3a\"],[0.8888888888888888,\"#fdca26\"],[1.0,\"#f0f921\"]]}],\"heatmapgl\":[{\"type\":\"heatmapgl\",\"colorbar\":{\"outlinewidth\":0,\"ticks\":\"\"},\"colorscale\":[[0.0,\"#0d0887\"],[0.1111111111111111,\"#46039f\"],[0.2222222222222222,\"#7201a8\"],[0.3333333333333333,\"#9c179e\"],[0.4444444444444444,\"#bd3786\"],[0.5555555555555556,\"#d8576b\"],[0.6666666666666666,\"#ed7953\"],[0.7777777777777778,\"#fb9f3a\"],[0.8888888888888888,\"#fdca26\"],[1.0,\"#f0f921\"]]}],\"contourcarpet\":[{\"type\":\"contourcarpet\",\"colorbar\":{\"outlinewidth\":0,\"ticks\":\"\"}}],\"contour\":[{\"type\":\"contour\",\"colorbar\":{\"outlinewidth\":0,\"ticks\":\"\"},\"colorscale\":[[0.0,\"#0d0887\"],[0.1111111111111111,\"#46039f\"],[0.2222222222222222,\"#7201a8\"],[0.3333333333333333,\"#9c179e\"],[0.4444444444444444,\"#bd3786\"],[0.5555555555555556,\"#d8576b\"],[0.6666666666666666,\"#ed7953\"],[0.7777777777777778,\"#fb9f3a\"],[0.8888888888888888,\"#fdca26\"],[1.0,\"#f0f921\"]]}],\"surface\":[{\"type\":\"surface\",\"colorbar\":{\"outlinewidth\":0,\"ticks\":\"\"},\"colorscale\":[[0.0,\"#0d0887\"],[0.1111111111111111,\"#46039f\"],[0.2222222222222222,\"#7201a8\"],[0.3333333333333333,\"#9c179e\"],[0.4444444444444444,\"#bd3786\"],[0.5555555555555556,\"#d8576b\"],[0.6666666666666666,\"#ed7953\"],[0.7777777777777778,\"#fb9f3a\"],[0.8888888888888888,\"#fdca26\"],[1.0,\"#f0f921\"]]}],\"mesh3d\":[{\"type\":\"mesh3d\",\"colorbar\":{\"outlinewidth\":0,\"ticks\":\"\"}}],\"scatter\":[{\"fillpattern\":{\"fillmode\":\"overlay\",\"size\":10,\"solidity\":0.2},\"type\":\"scatter\"}],\"parcoords\":[{\"type\":\"parcoords\",\"line\":{\"colorbar\":{\"outlinewidth\":0,\"ticks\":\"\"}}}],\"scatterpolargl\":[{\"type\":\"scatterpolargl\",\"marker\":{\"colorbar\":{\"outlinewidth\":0,\"ticks\":\"\"}}}],\"bar\":[{\"error_x\":{\"color\":\"#2a3f5f\"},\"error_y\":{\"color\":\"#2a3f5f\"},\"marker\":{\"line\":{\"color\":\"#E5ECF6\",\"width\":0.5},\"pattern\":{\"fillmode\":\"overlay\",\"size\":10,\"solidity\":0.2}},\"type\":\"bar\"}],\"scattergeo\":[{\"type\":\"scattergeo\",\"marker\":{\"colorbar\":{\"outlinewidth\":0,\"ticks\":\"\"}}}],\"scatterpolar\":[{\"type\":\"scatterpolar\",\"marker\":{\"colorbar\":{\"outlinewidth\":0,\"ticks\":\"\"}}}],\"histogram\":[{\"marker\":{\"pattern\":{\"fillmode\":\"overlay\",\"size\":10,\"solidity\":0.2}},\"type\":\"histogram\"}],\"scattergl\":[{\"type\":\"scattergl\",\"marker\":{\"colorbar\":{\"outlinewidth\":0,\"ticks\":\"\"}}}],\"scatter3d\":[{\"type\":\"scatter3d\",\"line\":{\"colorbar\":{\"outlinewidth\":0,\"ticks\":\"\"}},\"marker\":{\"colorbar\":{\"outlinewidth\":0,\"ticks\":\"\"}}}],\"scattermapbox\":[{\"type\":\"scattermapbox\",\"marker\":{\"colorbar\":{\"outlinewidth\":0,\"ticks\":\"\"}}}],\"scatterternary\":[{\"type\":\"scatterternary\",\"marker\":{\"colorbar\":{\"outlinewidth\":0,\"ticks\":\"\"}}}],\"scattercarpet\":[{\"type\":\"scattercarpet\",\"marker\":{\"colorbar\":{\"outlinewidth\":0,\"ticks\":\"\"}}}],\"carpet\":[{\"aaxis\":{\"endlinecolor\":\"#2a3f5f\",\"gridcolor\":\"white\",\"linecolor\":\"white\",\"minorgridcolor\":\"white\",\"startlinecolor\":\"#2a3f5f\"},\"baxis\":{\"endlinecolor\":\"#2a3f5f\",\"gridcolor\":\"white\",\"linecolor\":\"white\",\"minorgridcolor\":\"white\",\"startlinecolor\":\"#2a3f5f\"},\"type\":\"carpet\"}],\"table\":[{\"cells\":{\"fill\":{\"color\":\"#EBF0F8\"},\"line\":{\"color\":\"white\"}},\"header\":{\"fill\":{\"color\":\"#C8D4E3\"},\"line\":{\"color\":\"white\"}},\"type\":\"table\"}],\"barpolar\":[{\"marker\":{\"line\":{\"color\":\"#E5ECF6\",\"width\":0.5},\"pattern\":{\"fillmode\":\"overlay\",\"size\":10,\"solidity\":0.2}},\"type\":\"barpolar\"}],\"pie\":[{\"automargin\":true,\"type\":\"pie\"}]},\"layout\":{\"autotypenumbers\":\"strict\",\"colorway\":[\"#636efa\",\"#EF553B\",\"#00cc96\",\"#ab63fa\",\"#FFA15A\",\"#19d3f3\",\"#FF6692\",\"#B6E880\",\"#FF97FF\",\"#FECB52\"],\"font\":{\"color\":\"#2a3f5f\"},\"hovermode\":\"closest\",\"hoverlabel\":{\"align\":\"left\"},\"paper_bgcolor\":\"white\",\"plot_bgcolor\":\"#E5ECF6\",\"polar\":{\"bgcolor\":\"#E5ECF6\",\"angularaxis\":{\"gridcolor\":\"white\",\"linecolor\":\"white\",\"ticks\":\"\"},\"radialaxis\":{\"gridcolor\":\"white\",\"linecolor\":\"white\",\"ticks\":\"\"}},\"ternary\":{\"bgcolor\":\"#E5ECF6\",\"aaxis\":{\"gridcolor\":\"white\",\"linecolor\":\"white\",\"ticks\":\"\"},\"baxis\":{\"gridcolor\":\"white\",\"linecolor\":\"white\",\"ticks\":\"\"},\"caxis\":{\"gridcolor\":\"white\",\"linecolor\":\"white\",\"ticks\":\"\"}},\"coloraxis\":{\"colorbar\":{\"outlinewidth\":0,\"ticks\":\"\"}},\"colorscale\":{\"sequential\":[[0.0,\"#0d0887\"],[0.1111111111111111,\"#46039f\"],[0.2222222222222222,\"#7201a8\"],[0.3333333333333333,\"#9c179e\"],[0.4444444444444444,\"#bd3786\"],[0.5555555555555556,\"#d8576b\"],[0.6666666666666666,\"#ed7953\"],[0.7777777777777778,\"#fb9f3a\"],[0.8888888888888888,\"#fdca26\"],[1.0,\"#f0f921\"]],\"sequentialminus\":[[0.0,\"#0d0887\"],[0.1111111111111111,\"#46039f\"],[0.2222222222222222,\"#7201a8\"],[0.3333333333333333,\"#9c179e\"],[0.4444444444444444,\"#bd3786\"],[0.5555555555555556,\"#d8576b\"],[0.6666666666666666,\"#ed7953\"],[0.7777777777777778,\"#fb9f3a\"],[0.8888888888888888,\"#fdca26\"],[1.0,\"#f0f921\"]],\"diverging\":[[0,\"#8e0152\"],[0.1,\"#c51b7d\"],[0.2,\"#de77ae\"],[0.3,\"#f1b6da\"],[0.4,\"#fde0ef\"],[0.5,\"#f7f7f7\"],[0.6,\"#e6f5d0\"],[0.7,\"#b8e186\"],[0.8,\"#7fbc41\"],[0.9,\"#4d9221\"],[1,\"#276419\"]]},\"xaxis\":{\"gridcolor\":\"white\",\"linecolor\":\"white\",\"ticks\":\"\",\"title\":{\"standoff\":15},\"zerolinecolor\":\"white\",\"automargin\":true,\"zerolinewidth\":2},\"yaxis\":{\"gridcolor\":\"white\",\"linecolor\":\"white\",\"ticks\":\"\",\"title\":{\"standoff\":15},\"zerolinecolor\":\"white\",\"automargin\":true,\"zerolinewidth\":2},\"scene\":{\"xaxis\":{\"backgroundcolor\":\"#E5ECF6\",\"gridcolor\":\"white\",\"linecolor\":\"white\",\"showbackground\":true,\"ticks\":\"\",\"zerolinecolor\":\"white\",\"gridwidth\":2},\"yaxis\":{\"backgroundcolor\":\"#E5ECF6\",\"gridcolor\":\"white\",\"linecolor\":\"white\",\"showbackground\":true,\"ticks\":\"\",\"zerolinecolor\":\"white\",\"gridwidth\":2},\"zaxis\":{\"backgroundcolor\":\"#E5ECF6\",\"gridcolor\":\"white\",\"linecolor\":\"white\",\"showbackground\":true,\"ticks\":\"\",\"zerolinecolor\":\"white\",\"gridwidth\":2}},\"shapedefaults\":{\"line\":{\"color\":\"#2a3f5f\"}},\"annotationdefaults\":{\"arrowcolor\":\"#2a3f5f\",\"arrowhead\":0,\"arrowwidth\":1},\"geo\":{\"bgcolor\":\"white\",\"landcolor\":\"#E5ECF6\",\"subunitcolor\":\"white\",\"showland\":true,\"showlakes\":true,\"lakecolor\":\"white\"},\"title\":{\"x\":0.05},\"mapbox\":{\"style\":\"light\"}}}},                        {\"responsive\": true}                    ).then(function(){\n",
       "                            \n",
       "var gd = document.getElementById('cb964243-d6fa-45e8-bd29-b0ea515eff99');\n",
       "var x = new MutationObserver(function (mutations, observer) {{\n",
       "        var display = window.getComputedStyle(gd).display;\n",
       "        if (!display || display === 'none') {{\n",
       "            console.log([gd, 'removed!']);\n",
       "            Plotly.purge(gd);\n",
       "            observer.disconnect();\n",
       "        }}\n",
       "}});\n",
       "\n",
       "// Listen for the removal of the full notebook cells\n",
       "var notebookContainer = gd.closest('#notebook-container');\n",
       "if (notebookContainer) {{\n",
       "    x.observe(notebookContainer, {childList: true});\n",
       "}}\n",
       "\n",
       "// Listen for the clearing of the current output cell\n",
       "var outputEl = gd.closest('.output');\n",
       "if (outputEl) {{\n",
       "    x.observe(outputEl, {childList: true});\n",
       "}}\n",
       "\n",
       "                        })                };                });            </script>        </div>"
      ]
     },
     "metadata": {},
     "output_type": "display_data"
    }
   ],
   "source": [
    "optuna.visualization.plot_intermediate_values(study)"
   ]
  },
  {
   "cell_type": "markdown",
   "metadata": {},
   "source": [
    "# Graph"
   ]
  },
  {
   "cell_type": "code",
   "execution_count": 177,
   "metadata": {},
   "outputs": [],
   "source": [
    "num_models = 3\n",
    "epochs = 10\n",
    "target_model = \"DeiT_Tiny\""
   ]
  },
  {
   "cell_type": "code",
   "execution_count": 178,
   "metadata": {},
   "outputs": [
    {
     "data": {
      "text/html": [
       "<div>\n",
       "<style scoped>\n",
       "    .dataframe tbody tr th:only-of-type {\n",
       "        vertical-align: middle;\n",
       "    }\n",
       "\n",
       "    .dataframe tbody tr th {\n",
       "        vertical-align: top;\n",
       "    }\n",
       "\n",
       "    .dataframe thead th {\n",
       "        text-align: right;\n",
       "    }\n",
       "</style>\n",
       "<table border=\"1\" class=\"dataframe\">\n",
       "  <thead>\n",
       "    <tr style=\"text-align: right;\">\n",
       "      <th></th>\n",
       "      <th>value</th>\n",
       "      <th>params_model_0_name</th>\n",
       "      <th>params_model_1_name</th>\n",
       "      <th>params_model_2_name</th>\n",
       "      <th>model_0_acc</th>\n",
       "      <th>model_1_acc</th>\n",
       "      <th>model_2_acc</th>\n",
       "    </tr>\n",
       "  </thead>\n",
       "  <tbody>\n",
       "    <tr>\n",
       "      <th>122</th>\n",
       "      <td>NaN</td>\n",
       "      <td>DeiT_Tiny</td>\n",
       "      <td>WRN28_2</td>\n",
       "      <td>WRN28_2</td>\n",
       "      <td>42.24</td>\n",
       "      <td>74.7</td>\n",
       "      <td>41.38</td>\n",
       "    </tr>\n",
       "  </tbody>\n",
       "</table>\n",
       "</div>"
      ],
      "text/plain": [
       "     value params_model_0_name params_model_1_name params_model_2_name  \\\n",
       "122    NaN           DeiT_Tiny             WRN28_2             WRN28_2   \n",
       "\n",
       "     model_0_acc  model_1_acc  model_2_acc  \n",
       "122        42.24         74.7        41.38  "
      ]
     },
     "execution_count": 178,
     "metadata": {},
     "output_type": "execute_result"
    }
   ],
   "source": [
    "df = study.trials_dataframe()\n",
    "\n",
    "# Select the columns that exist in the DataFrame\n",
    "available_columns = [\"number\", \"state\", \"value\", \"datetime_start\", \"datetime_complete\"]\n",
    "\n",
    "# Add all columns that start with 'params_' and 'user_attrs_'\n",
    "params_columns = [col for col in df.columns if col.startswith('params_')]\n",
    "user_attrs_columns = [col for col in df.columns if col.startswith('user_attrs_')]\n",
    "\n",
    "selected_columns = available_columns + params_columns + user_attrs_columns\n",
    "\n",
    "df = df[selected_columns]\n",
    "\n",
    "# Now you can proceed with your analysis\n",
    "# complete = df[df[\"state\"] == \"COMPLETE\"]\n",
    "complete = df.iloc[122:123]\n",
    "\n",
    "# Instead of using complete[\"params\"], we'll use all columns that start with 'params_'\n",
    "params = complete[params_columns]\n",
    "\n",
    "# Filter for model-related parameters\n",
    "model = params.loc[:, params.columns.str.contains(\"model\")]\n",
    "\n",
    "# The rest of your code remains the same\n",
    "model_acc = []\n",
    "for id_ in complete[\"number\"]:\n",
    "    model_acc += [[pd.read_csv(f\"./result/{id_:04d}/log/net{i}/epoch_log.csv\",\n",
    "                               index_col=\"Unnamed: 0\").at[epochs, \"test_accuracy\"] for i in range(num_models)]]\n",
    "    \n",
    "model_acc = pd.DataFrame(model_acc, index=model.index, columns=[f\"model_{i}_acc\" for i in range(num_models)])\n",
    "\n",
    "sorted_df = complete.sort_values(by=\"value\")\n",
    "sorted_acc = sorted_df[\"value\"]\n",
    "\n",
    "sorted_df = pd.concat([sorted_acc, model.loc[sorted_acc.index], model_acc.loc[sorted_acc.index]], axis=1).rename(columns={0:\"max_accuracy\"})\n",
    "sorted_df"
   ]
  },
  {
   "cell_type": "code",
   "execution_count": 179,
   "metadata": {},
   "outputs": [
    {
     "data": {
      "text/html": [
       "<div>\n",
       "<style scoped>\n",
       "    .dataframe tbody tr th:only-of-type {\n",
       "        vertical-align: middle;\n",
       "    }\n",
       "\n",
       "    .dataframe tbody tr th {\n",
       "        vertical-align: top;\n",
       "    }\n",
       "\n",
       "    .dataframe thead th {\n",
       "        text-align: right;\n",
       "    }\n",
       "</style>\n",
       "<table border=\"1\" class=\"dataframe\">\n",
       "  <thead>\n",
       "    <tr style=\"text-align: right;\">\n",
       "      <th></th>\n",
       "      <th>number</th>\n",
       "      <th>state</th>\n",
       "      <th>value</th>\n",
       "      <th>datetime_start</th>\n",
       "      <th>datetime_complete</th>\n",
       "      <th>params_00_00_gate</th>\n",
       "      <th>params_00_00_loss</th>\n",
       "      <th>params_00_01_gate</th>\n",
       "      <th>params_00_01_loss</th>\n",
       "      <th>params_00_02_gate</th>\n",
       "      <th>params_00_02_loss</th>\n",
       "      <th>params_01_00_gate</th>\n",
       "      <th>params_01_00_loss</th>\n",
       "      <th>params_01_01_gate</th>\n",
       "      <th>params_01_01_loss</th>\n",
       "      <th>params_01_02_gate</th>\n",
       "      <th>params_01_02_loss</th>\n",
       "      <th>params_02_00_gate</th>\n",
       "      <th>params_02_00_loss</th>\n",
       "      <th>params_02_01_gate</th>\n",
       "      <th>params_02_01_loss</th>\n",
       "      <th>params_02_02_gate</th>\n",
       "      <th>params_02_02_loss</th>\n",
       "      <th>params_1_is_pretrained</th>\n",
       "      <th>params_2_is_pretrained</th>\n",
       "      <th>params_model_0_name</th>\n",
       "      <th>params_model_1_name</th>\n",
       "      <th>params_model_2_name</th>\n",
       "      <th>user_attrs_seed</th>\n",
       "    </tr>\n",
       "  </thead>\n",
       "  <tbody>\n",
       "    <tr>\n",
       "      <th>0</th>\n",
       "      <td>0</td>\n",
       "      <td>PRUNED</td>\n",
       "      <td>91.28</td>\n",
       "      <td>2024-07-27 14:20:51.121296</td>\n",
       "      <td>2024-07-27 14:24:01.049416</td>\n",
       "      <td>ThroughGate</td>\n",
       "      <td>IndepLoss</td>\n",
       "      <td>CorrectGate</td>\n",
       "      <td>KLLoss</td>\n",
       "      <td>NegativeLinearGate</td>\n",
       "      <td>KLLoss</td>\n",
       "      <td>CorrectGate</td>\n",
       "      <td>KLLoss</td>\n",
       "      <td>CorrectGate</td>\n",
       "      <td>IndepLoss</td>\n",
       "      <td>ThroughGate</td>\n",
       "      <td>KLLoss</td>\n",
       "      <td>LinearGate</td>\n",
       "      <td>KLLoss</td>\n",
       "      <td>NegativeLinearGate</td>\n",
       "      <td>KLLoss</td>\n",
       "      <td>NegativeLinearGate</td>\n",
       "      <td>IndepLoss</td>\n",
       "      <td>0</td>\n",
       "      <td>1</td>\n",
       "      <td>DeiT_Tiny</td>\n",
       "      <td>DeiT_Small</td>\n",
       "      <td>ResNet32</td>\n",
       "      <td>0</td>\n",
       "    </tr>\n",
       "    <tr>\n",
       "      <th>1</th>\n",
       "      <td>1</td>\n",
       "      <td>PRUNED</td>\n",
       "      <td>74.76</td>\n",
       "      <td>2024-07-27 14:21:01.204812</td>\n",
       "      <td>2024-07-27 14:30:07.788592</td>\n",
       "      <td>ThroughGate</td>\n",
       "      <td>IndepLoss</td>\n",
       "      <td>ThroughGate</td>\n",
       "      <td>KLLoss</td>\n",
       "      <td>LinearGate</td>\n",
       "      <td>KLLoss</td>\n",
       "      <td>CutoffGate</td>\n",
       "      <td>KLLoss</td>\n",
       "      <td>CutoffGate</td>\n",
       "      <td>IndepLoss</td>\n",
       "      <td>ThroughGate</td>\n",
       "      <td>KLLoss</td>\n",
       "      <td>ThroughGate</td>\n",
       "      <td>KLLoss</td>\n",
       "      <td>ThroughGate</td>\n",
       "      <td>KLLoss</td>\n",
       "      <td>NegativeLinearGate</td>\n",
       "      <td>IndepLoss</td>\n",
       "      <td>1</td>\n",
       "      <td>0</td>\n",
       "      <td>DeiT_Tiny</td>\n",
       "      <td>DeiT_Tiny</td>\n",
       "      <td>ResNet32</td>\n",
       "      <td>0</td>\n",
       "    </tr>\n",
       "    <tr>\n",
       "      <th>2</th>\n",
       "      <td>2</td>\n",
       "      <td>PRUNED</td>\n",
       "      <td>90.88</td>\n",
       "      <td>2024-07-27 14:21:12.359759</td>\n",
       "      <td>2024-07-27 14:23:50.268436</td>\n",
       "      <td>NegativeLinearGate</td>\n",
       "      <td>IndepLoss</td>\n",
       "      <td>CutoffGate</td>\n",
       "      <td>KLLoss</td>\n",
       "      <td>ThroughGate</td>\n",
       "      <td>KLLoss</td>\n",
       "      <td>ThroughGate</td>\n",
       "      <td>KLLoss</td>\n",
       "      <td>ThroughGate</td>\n",
       "      <td>IndepLoss</td>\n",
       "      <td>ThroughGate</td>\n",
       "      <td>KLLoss</td>\n",
       "      <td>ThroughGate</td>\n",
       "      <td>KLLoss</td>\n",
       "      <td>NegativeLinearGate</td>\n",
       "      <td>KLLoss</td>\n",
       "      <td>NegativeLinearGate</td>\n",
       "      <td>IndepLoss</td>\n",
       "      <td>1</td>\n",
       "      <td>0</td>\n",
       "      <td>DeiT_Tiny</td>\n",
       "      <td>ResNet110</td>\n",
       "      <td>ResNet32</td>\n",
       "      <td>0</td>\n",
       "    </tr>\n",
       "    <tr>\n",
       "      <th>3</th>\n",
       "      <td>3</td>\n",
       "      <td>PRUNED</td>\n",
       "      <td>83.94</td>\n",
       "      <td>2024-07-27 14:21:21.067865</td>\n",
       "      <td>2024-07-27 14:27:49.837370</td>\n",
       "      <td>ThroughGate</td>\n",
       "      <td>IndepLoss</td>\n",
       "      <td>NegativeLinearGate</td>\n",
       "      <td>KLLoss</td>\n",
       "      <td>LinearGate</td>\n",
       "      <td>KLLoss</td>\n",
       "      <td>NegativeLinearGate</td>\n",
       "      <td>KLLoss</td>\n",
       "      <td>ThroughGate</td>\n",
       "      <td>IndepLoss</td>\n",
       "      <td>LinearGate</td>\n",
       "      <td>KLLoss</td>\n",
       "      <td>CutoffGate</td>\n",
       "      <td>KLLoss</td>\n",
       "      <td>NegativeLinearGate</td>\n",
       "      <td>KLLoss</td>\n",
       "      <td>NegativeLinearGate</td>\n",
       "      <td>IndepLoss</td>\n",
       "      <td>0</td>\n",
       "      <td>1</td>\n",
       "      <td>DeiT_Tiny</td>\n",
       "      <td>DeiT_Small</td>\n",
       "      <td>DeiT_Tiny</td>\n",
       "      <td>0</td>\n",
       "    </tr>\n",
       "    <tr>\n",
       "      <th>4</th>\n",
       "      <td>4</td>\n",
       "      <td>RUNNING</td>\n",
       "      <td>NaN</td>\n",
       "      <td>2024-07-27 14:21:31.233980</td>\n",
       "      <td>NaT</td>\n",
       "      <td>CorrectGate</td>\n",
       "      <td>IndepLoss</td>\n",
       "      <td>CutoffGate</td>\n",
       "      <td>KLLoss</td>\n",
       "      <td>ThroughGate</td>\n",
       "      <td>KLLoss</td>\n",
       "      <td>CutoffGate</td>\n",
       "      <td>KLLoss</td>\n",
       "      <td>LinearGate</td>\n",
       "      <td>IndepLoss</td>\n",
       "      <td>CorrectGate</td>\n",
       "      <td>KLLoss</td>\n",
       "      <td>NegativeLinearGate</td>\n",
       "      <td>KLLoss</td>\n",
       "      <td>CorrectGate</td>\n",
       "      <td>KLLoss</td>\n",
       "      <td>CutoffGate</td>\n",
       "      <td>IndepLoss</td>\n",
       "      <td>1</td>\n",
       "      <td>1</td>\n",
       "      <td>DeiT_Tiny</td>\n",
       "      <td>ResNet32</td>\n",
       "      <td>DeiT_Tiny</td>\n",
       "      <td>0</td>\n",
       "    </tr>\n",
       "    <tr>\n",
       "      <th>...</th>\n",
       "      <td>...</td>\n",
       "      <td>...</td>\n",
       "      <td>...</td>\n",
       "      <td>...</td>\n",
       "      <td>...</td>\n",
       "      <td>...</td>\n",
       "      <td>...</td>\n",
       "      <td>...</td>\n",
       "      <td>...</td>\n",
       "      <td>...</td>\n",
       "      <td>...</td>\n",
       "      <td>...</td>\n",
       "      <td>...</td>\n",
       "      <td>...</td>\n",
       "      <td>...</td>\n",
       "      <td>...</td>\n",
       "      <td>...</td>\n",
       "      <td>...</td>\n",
       "      <td>...</td>\n",
       "      <td>...</td>\n",
       "      <td>...</td>\n",
       "      <td>...</td>\n",
       "      <td>...</td>\n",
       "      <td>...</td>\n",
       "      <td>...</td>\n",
       "      <td>...</td>\n",
       "      <td>...</td>\n",
       "      <td>...</td>\n",
       "      <td>...</td>\n",
       "    </tr>\n",
       "    <tr>\n",
       "      <th>154</th>\n",
       "      <td>154</td>\n",
       "      <td>RUNNING</td>\n",
       "      <td>NaN</td>\n",
       "      <td>2024-07-27 15:24:49.809385</td>\n",
       "      <td>NaT</td>\n",
       "      <td>NegativeLinearGate</td>\n",
       "      <td>IndepLoss</td>\n",
       "      <td>ThroughGate</td>\n",
       "      <td>KLLoss</td>\n",
       "      <td>NegativeLinearGate</td>\n",
       "      <td>KLLoss</td>\n",
       "      <td>CorrectGate</td>\n",
       "      <td>KLLoss</td>\n",
       "      <td>CorrectGate</td>\n",
       "      <td>IndepLoss</td>\n",
       "      <td>CorrectGate</td>\n",
       "      <td>KLLoss</td>\n",
       "      <td>CorrectGate</td>\n",
       "      <td>KLLoss</td>\n",
       "      <td>NegativeLinearGate</td>\n",
       "      <td>KLLoss</td>\n",
       "      <td>LinearGate</td>\n",
       "      <td>IndepLoss</td>\n",
       "      <td>1</td>\n",
       "      <td>1</td>\n",
       "      <td>DeiT_Tiny</td>\n",
       "      <td>ResNet32</td>\n",
       "      <td>DeiT_Tiny</td>\n",
       "      <td>0</td>\n",
       "    </tr>\n",
       "    <tr>\n",
       "      <th>155</th>\n",
       "      <td>155</td>\n",
       "      <td>FAIL</td>\n",
       "      <td>NaN</td>\n",
       "      <td>2024-07-27 15:26:15.835555</td>\n",
       "      <td>2024-07-27 15:26:19.161836</td>\n",
       "      <td>CutoffGate</td>\n",
       "      <td>IndepLoss</td>\n",
       "      <td>CutoffGate</td>\n",
       "      <td>KLLoss</td>\n",
       "      <td>CutoffGate</td>\n",
       "      <td>KLLoss</td>\n",
       "      <td>CorrectGate</td>\n",
       "      <td>KLLoss</td>\n",
       "      <td>ThroughGate</td>\n",
       "      <td>IndepLoss</td>\n",
       "      <td>NegativeLinearGate</td>\n",
       "      <td>KLLoss</td>\n",
       "      <td>CutoffGate</td>\n",
       "      <td>KLLoss</td>\n",
       "      <td>ThroughGate</td>\n",
       "      <td>KLLoss</td>\n",
       "      <td>NegativeLinearGate</td>\n",
       "      <td>IndepLoss</td>\n",
       "      <td>0</td>\n",
       "      <td>0</td>\n",
       "      <td>DeiT_Tiny</td>\n",
       "      <td>WRN28_2</td>\n",
       "      <td>WRN28_2</td>\n",
       "      <td>0</td>\n",
       "    </tr>\n",
       "    <tr>\n",
       "      <th>156</th>\n",
       "      <td>156</td>\n",
       "      <td>RUNNING</td>\n",
       "      <td>NaN</td>\n",
       "      <td>2024-07-27 15:26:38.060902</td>\n",
       "      <td>NaT</td>\n",
       "      <td>ThroughGate</td>\n",
       "      <td>IndepLoss</td>\n",
       "      <td>NegativeLinearGate</td>\n",
       "      <td>KLLoss</td>\n",
       "      <td>CorrectGate</td>\n",
       "      <td>KLLoss</td>\n",
       "      <td>LinearGate</td>\n",
       "      <td>KLLoss</td>\n",
       "      <td>CorrectGate</td>\n",
       "      <td>IndepLoss</td>\n",
       "      <td>CutoffGate</td>\n",
       "      <td>KLLoss</td>\n",
       "      <td>CutoffGate</td>\n",
       "      <td>KLLoss</td>\n",
       "      <td>CorrectGate</td>\n",
       "      <td>KLLoss</td>\n",
       "      <td>LinearGate</td>\n",
       "      <td>IndepLoss</td>\n",
       "      <td>1</td>\n",
       "      <td>0</td>\n",
       "      <td>DeiT_Tiny</td>\n",
       "      <td>DeiT_Small</td>\n",
       "      <td>ResNet110</td>\n",
       "      <td>0</td>\n",
       "    </tr>\n",
       "    <tr>\n",
       "      <th>157</th>\n",
       "      <td>157</td>\n",
       "      <td>RUNNING</td>\n",
       "      <td>NaN</td>\n",
       "      <td>2024-07-27 15:27:06.539494</td>\n",
       "      <td>NaT</td>\n",
       "      <td>LinearGate</td>\n",
       "      <td>IndepLoss</td>\n",
       "      <td>NegativeLinearGate</td>\n",
       "      <td>KLLoss</td>\n",
       "      <td>ThroughGate</td>\n",
       "      <td>KLLoss</td>\n",
       "      <td>ThroughGate</td>\n",
       "      <td>KLLoss</td>\n",
       "      <td>CutoffGate</td>\n",
       "      <td>IndepLoss</td>\n",
       "      <td>ThroughGate</td>\n",
       "      <td>KLLoss</td>\n",
       "      <td>ThroughGate</td>\n",
       "      <td>KLLoss</td>\n",
       "      <td>LinearGate</td>\n",
       "      <td>KLLoss</td>\n",
       "      <td>ThroughGate</td>\n",
       "      <td>IndepLoss</td>\n",
       "      <td>0</td>\n",
       "      <td>0</td>\n",
       "      <td>DeiT_Tiny</td>\n",
       "      <td>DeiT_Small</td>\n",
       "      <td>WRN28_2</td>\n",
       "      <td>0</td>\n",
       "    </tr>\n",
       "    <tr>\n",
       "      <th>158</th>\n",
       "      <td>158</td>\n",
       "      <td>RUNNING</td>\n",
       "      <td>NaN</td>\n",
       "      <td>2024-07-27 15:27:31.894436</td>\n",
       "      <td>NaT</td>\n",
       "      <td>CorrectGate</td>\n",
       "      <td>IndepLoss</td>\n",
       "      <td>LinearGate</td>\n",
       "      <td>KLLoss</td>\n",
       "      <td>CutoffGate</td>\n",
       "      <td>KLLoss</td>\n",
       "      <td>NegativeLinearGate</td>\n",
       "      <td>KLLoss</td>\n",
       "      <td>ThroughGate</td>\n",
       "      <td>IndepLoss</td>\n",
       "      <td>CutoffGate</td>\n",
       "      <td>KLLoss</td>\n",
       "      <td>ThroughGate</td>\n",
       "      <td>KLLoss</td>\n",
       "      <td>CorrectGate</td>\n",
       "      <td>KLLoss</td>\n",
       "      <td>CutoffGate</td>\n",
       "      <td>IndepLoss</td>\n",
       "      <td>0</td>\n",
       "      <td>1</td>\n",
       "      <td>DeiT_Tiny</td>\n",
       "      <td>ResNet110</td>\n",
       "      <td>DeiT_Tiny</td>\n",
       "      <td>0</td>\n",
       "    </tr>\n",
       "  </tbody>\n",
       "</table>\n",
       "<p>159 rows × 29 columns</p>\n",
       "</div>"
      ],
      "text/plain": [
       "     number    state  value             datetime_start  \\\n",
       "0         0   PRUNED  91.28 2024-07-27 14:20:51.121296   \n",
       "1         1   PRUNED  74.76 2024-07-27 14:21:01.204812   \n",
       "2         2   PRUNED  90.88 2024-07-27 14:21:12.359759   \n",
       "3         3   PRUNED  83.94 2024-07-27 14:21:21.067865   \n",
       "4         4  RUNNING    NaN 2024-07-27 14:21:31.233980   \n",
       "..      ...      ...    ...                        ...   \n",
       "154     154  RUNNING    NaN 2024-07-27 15:24:49.809385   \n",
       "155     155     FAIL    NaN 2024-07-27 15:26:15.835555   \n",
       "156     156  RUNNING    NaN 2024-07-27 15:26:38.060902   \n",
       "157     157  RUNNING    NaN 2024-07-27 15:27:06.539494   \n",
       "158     158  RUNNING    NaN 2024-07-27 15:27:31.894436   \n",
       "\n",
       "             datetime_complete   params_00_00_gate params_00_00_loss  \\\n",
       "0   2024-07-27 14:24:01.049416         ThroughGate         IndepLoss   \n",
       "1   2024-07-27 14:30:07.788592         ThroughGate         IndepLoss   \n",
       "2   2024-07-27 14:23:50.268436  NegativeLinearGate         IndepLoss   \n",
       "3   2024-07-27 14:27:49.837370         ThroughGate         IndepLoss   \n",
       "4                          NaT         CorrectGate         IndepLoss   \n",
       "..                         ...                 ...               ...   \n",
       "154                        NaT  NegativeLinearGate         IndepLoss   \n",
       "155 2024-07-27 15:26:19.161836          CutoffGate         IndepLoss   \n",
       "156                        NaT         ThroughGate         IndepLoss   \n",
       "157                        NaT          LinearGate         IndepLoss   \n",
       "158                        NaT         CorrectGate         IndepLoss   \n",
       "\n",
       "      params_00_01_gate params_00_01_loss   params_00_02_gate  \\\n",
       "0           CorrectGate            KLLoss  NegativeLinearGate   \n",
       "1           ThroughGate            KLLoss          LinearGate   \n",
       "2            CutoffGate            KLLoss         ThroughGate   \n",
       "3    NegativeLinearGate            KLLoss          LinearGate   \n",
       "4            CutoffGate            KLLoss         ThroughGate   \n",
       "..                  ...               ...                 ...   \n",
       "154         ThroughGate            KLLoss  NegativeLinearGate   \n",
       "155          CutoffGate            KLLoss          CutoffGate   \n",
       "156  NegativeLinearGate            KLLoss         CorrectGate   \n",
       "157  NegativeLinearGate            KLLoss         ThroughGate   \n",
       "158          LinearGate            KLLoss          CutoffGate   \n",
       "\n",
       "    params_00_02_loss   params_01_00_gate params_01_00_loss params_01_01_gate  \\\n",
       "0              KLLoss         CorrectGate            KLLoss       CorrectGate   \n",
       "1              KLLoss          CutoffGate            KLLoss        CutoffGate   \n",
       "2              KLLoss         ThroughGate            KLLoss       ThroughGate   \n",
       "3              KLLoss  NegativeLinearGate            KLLoss       ThroughGate   \n",
       "4              KLLoss          CutoffGate            KLLoss        LinearGate   \n",
       "..                ...                 ...               ...               ...   \n",
       "154            KLLoss         CorrectGate            KLLoss       CorrectGate   \n",
       "155            KLLoss         CorrectGate            KLLoss       ThroughGate   \n",
       "156            KLLoss          LinearGate            KLLoss       CorrectGate   \n",
       "157            KLLoss         ThroughGate            KLLoss        CutoffGate   \n",
       "158            KLLoss  NegativeLinearGate            KLLoss       ThroughGate   \n",
       "\n",
       "    params_01_01_loss   params_01_02_gate params_01_02_loss  \\\n",
       "0           IndepLoss         ThroughGate            KLLoss   \n",
       "1           IndepLoss         ThroughGate            KLLoss   \n",
       "2           IndepLoss         ThroughGate            KLLoss   \n",
       "3           IndepLoss          LinearGate            KLLoss   \n",
       "4           IndepLoss         CorrectGate            KLLoss   \n",
       "..                ...                 ...               ...   \n",
       "154         IndepLoss         CorrectGate            KLLoss   \n",
       "155         IndepLoss  NegativeLinearGate            KLLoss   \n",
       "156         IndepLoss          CutoffGate            KLLoss   \n",
       "157         IndepLoss         ThroughGate            KLLoss   \n",
       "158         IndepLoss          CutoffGate            KLLoss   \n",
       "\n",
       "      params_02_00_gate params_02_00_loss   params_02_01_gate  \\\n",
       "0            LinearGate            KLLoss  NegativeLinearGate   \n",
       "1           ThroughGate            KLLoss         ThroughGate   \n",
       "2           ThroughGate            KLLoss  NegativeLinearGate   \n",
       "3            CutoffGate            KLLoss  NegativeLinearGate   \n",
       "4    NegativeLinearGate            KLLoss         CorrectGate   \n",
       "..                  ...               ...                 ...   \n",
       "154         CorrectGate            KLLoss  NegativeLinearGate   \n",
       "155          CutoffGate            KLLoss         ThroughGate   \n",
       "156          CutoffGate            KLLoss         CorrectGate   \n",
       "157         ThroughGate            KLLoss          LinearGate   \n",
       "158         ThroughGate            KLLoss         CorrectGate   \n",
       "\n",
       "    params_02_01_loss   params_02_02_gate params_02_02_loss  \\\n",
       "0              KLLoss  NegativeLinearGate         IndepLoss   \n",
       "1              KLLoss  NegativeLinearGate         IndepLoss   \n",
       "2              KLLoss  NegativeLinearGate         IndepLoss   \n",
       "3              KLLoss  NegativeLinearGate         IndepLoss   \n",
       "4              KLLoss          CutoffGate         IndepLoss   \n",
       "..                ...                 ...               ...   \n",
       "154            KLLoss          LinearGate         IndepLoss   \n",
       "155            KLLoss  NegativeLinearGate         IndepLoss   \n",
       "156            KLLoss          LinearGate         IndepLoss   \n",
       "157            KLLoss         ThroughGate         IndepLoss   \n",
       "158            KLLoss          CutoffGate         IndepLoss   \n",
       "\n",
       "     params_1_is_pretrained  params_2_is_pretrained params_model_0_name  \\\n",
       "0                         0                       1           DeiT_Tiny   \n",
       "1                         1                       0           DeiT_Tiny   \n",
       "2                         1                       0           DeiT_Tiny   \n",
       "3                         0                       1           DeiT_Tiny   \n",
       "4                         1                       1           DeiT_Tiny   \n",
       "..                      ...                     ...                 ...   \n",
       "154                       1                       1           DeiT_Tiny   \n",
       "155                       0                       0           DeiT_Tiny   \n",
       "156                       1                       0           DeiT_Tiny   \n",
       "157                       0                       0           DeiT_Tiny   \n",
       "158                       0                       1           DeiT_Tiny   \n",
       "\n",
       "    params_model_1_name params_model_2_name  user_attrs_seed  \n",
       "0            DeiT_Small            ResNet32                0  \n",
       "1             DeiT_Tiny            ResNet32                0  \n",
       "2             ResNet110            ResNet32                0  \n",
       "3            DeiT_Small           DeiT_Tiny                0  \n",
       "4              ResNet32           DeiT_Tiny                0  \n",
       "..                  ...                 ...              ...  \n",
       "154            ResNet32           DeiT_Tiny                0  \n",
       "155             WRN28_2             WRN28_2                0  \n",
       "156          DeiT_Small           ResNet110                0  \n",
       "157          DeiT_Small             WRN28_2                0  \n",
       "158           ResNet110           DeiT_Tiny                0  \n",
       "\n",
       "[159 rows x 29 columns]"
      ]
     },
     "execution_count": 179,
     "metadata": {},
     "output_type": "execute_result"
    }
   ],
   "source": [
    "df"
   ]
  },
  {
   "cell_type": "code",
   "execution_count": 180,
   "metadata": {},
   "outputs": [],
   "source": [
    "import pandas as pd\n",
    "import numpy as np\n",
    "from graphviz import Digraph\n",
    "\n",
    "def generate_graph(params, sorted_df, model_acc, sorted_acc, top=0):\n",
    "    # Loss\n",
    "    loss = params.loc[:, params.columns.str.contains(\"loss\")].loc[sorted_df.index[top]]\n",
    "    model_name = params.loc[:, params.columns.str.contains(\"model\")].loc[sorted_df.index[top]]\n",
    "\n",
    "    wh = int(np.sqrt(len(loss)))\n",
    "    df_loss = pd.DataFrame(loss.values.reshape((wh,wh)), columns=model_name, index=model_name)\n",
    "\n",
    "    # Gate\n",
    "    gate = params.loc[:, params.columns.str.contains(\"gate\")].loc[sorted_df.index[top]]\n",
    "    df_gate = pd.DataFrame(df_loss.copy()).applymap(lambda x: None)\n",
    "    \n",
    "    # is_pretrained\n",
    "    df_is_pretrained = params.loc[:, params.columns.str.contains(\"is_pretrained\")].loc[sorted_df.index[top]]\n",
    "\n",
    "    for gate_name, val in gate.to_dict().items():\n",
    "        _, source, target, _ = gate_name.split(\"_\")\n",
    "        df_gate.iloc[int(source), int(target)] = val\n",
    "\n",
    "    edge_color = {\n",
    "        \"ThroughGate\": \"3\",\n",
    "        \"LinearGate\": \"1\",\n",
    "        \"CorrectGate\": \"2\",\n",
    "        \"NegativeLinearGate\": \"#4682B4\",\n",
    "    }\n",
    "\n",
    "    G = Digraph(format=\"pdf\", engine=\"dot\")\n",
    "\n",
    "    acc = model_acc.loc[sorted_acc.index].iloc[top]\n",
    "    for target in range(len(df_loss)):    \n",
    "        G.node(f\"{target+1}. \"+df_loss.index[target]+f\" ({acc[target]}%)\",\n",
    "               color='gray90', fillcolor='gray90', style='filled')\n",
    "    G.node(f\"{1}. \"+df_loss.index[0]+f\" ({acc[0]}%)\", color='pink', fillcolor='pink', style='radial')\n",
    "        \n",
    "    for target in range(len(df_loss)):\n",
    "        if target != 0:\n",
    "            is_pretrained = df_is_pretrained.iloc[target-1]\n",
    "        else:\n",
    "            is_pretrained = 0\n",
    "        for source in range(len(df_loss)):\n",
    "            if is_pretrained:\n",
    "                gate = \"CutoffGate\"\n",
    "            else:\n",
    "                gate = df_gate.iloc[target,source]\n",
    "            if gate != \"CutoffGate\":\n",
    "                label = df_gate.iloc[target, source].replace(\"Gate\",\"\")                \n",
    "                if source == target:\n",
    "                    if gate == \"CorrectGate\":\n",
    "                        gate = \"ThroughGate\"\n",
    "                        label = \"Through\"\n",
    "                    G.edge(f\"{target}\",\n",
    "                           f\"{target+1}. \"+df_loss.index[target]+f\" ({acc[target]}%)\",\n",
    "                           label=label, fontsize=\"13\", fontcolor=edge_color[gate],\n",
    "                           color=edge_color[gate], colorscheme=\"dark28\")\n",
    "                    G.node(f\"{target}\", label=\"Label\", color='white', style='filled')\n",
    "                else:\n",
    "                    G.edge(f\"{source+1}. \"+df_loss.columns[source]+f\" ({acc[source]}%)\",\n",
    "                           f\"{target+1}. \"+df_loss.index[target]+f\" ({acc[target]}%)\",\n",
    "                           label=label, fontsize=\"13\", fontcolor=edge_color[gate],\n",
    "                           color=edge_color[gate], colorscheme=\"dark28\")\n",
    "\n",
    "    for target in range(len(df_loss)):\n",
    "        if target != 0:\n",
    "            is_pretrained = df_is_pretrained.iloc[target-1]\n",
    "        else:\n",
    "            is_pretrained = 0\n",
    "        if (df_gate.iloc[target] == \"CutoffGate\").all() or is_pretrained:\n",
    "            G.node(f\"{target+1}. \"+df_loss.columns[target]+f\" ({acc[target]}%)\",\n",
    "                   color='lightblue',fillcolor='lightblue', style='radial')\n",
    "\n",
    "    G.render(filename=f\"{top}\", directory=\"./topn_graph\", cleanup=True, format=\"pdf\")\n",
    "    return G"
   ]
  },
  {
   "cell_type": "code",
   "execution_count": 182,
   "metadata": {},
   "outputs": [
    {
     "data": {
      "text/html": [
       "\n",
       "    <style>\n",
       "        @import url('https://fonts.googleapis.com/css2?family=Poppins:wght@300;400;600&display=swap');\n",
       "\n",
       "        body {\n",
       "            background-color: #0f0e17;\n",
       "            color: #fffffe;\n",
       "            font-family: 'Poppins', sans-serif;\n",
       "        }\n",
       "        .graph-container {\n",
       "            display: grid;\n",
       "            grid-template-columns: repeat(auto-fit, minmax(400px, 1fr));\n",
       "            gap: 40px;\n",
       "            padding: 40px;\n",
       "            background: linear-gradient(135deg, #0f0e17 0%, #232946 100%);\n",
       "            border-radius: 20px;\n",
       "            box-shadow: 0 20px 40px rgba(0, 0, 0, 0.4);\n",
       "        }\n",
       "        .graph-item {\n",
       "            background: linear-gradient(45deg, #232946, #2e3a5c);\n",
       "            border-radius: 15px;\n",
       "            box-shadow: 0 10px 20px rgba(0, 0, 0, 0.2);\n",
       "            padding: 25px;\n",
       "            transition: all 0.4s cubic-bezier(0.175, 0.885, 0.32, 1.275);\n",
       "            border: 2px solid #4a4e69;\n",
       "            overflow: hidden;\n",
       "            position: relative;\n",
       "        }\n",
       "        .graph-item::before {\n",
       "            content: '';\n",
       "            position: absolute;\n",
       "            top: -50%;\n",
       "            left: -50%;\n",
       "            width: 200%;\n",
       "            height: 200%;\n",
       "            background: radial-gradient(circle, rgba(255,255,255,0.1) 0%, rgba(255,255,255,0) 70%);\n",
       "            transform: scale(0);\n",
       "            transition: transform 0.6s ease-out;\n",
       "        }\n",
       "        .graph-item:hover {\n",
       "            transform: translateY(-15px) scale(1.03);\n",
       "            box-shadow: 0 15px 30px rgba(0, 0, 0, 0.3);\n",
       "            border-color: #ff8906;\n",
       "        }\n",
       "        .graph-item:hover::before {\n",
       "            transform: scale(1);\n",
       "        }\n",
       "        .graph-title {\n",
       "            font-family: 'Poppins', sans-serif;\n",
       "            color: #ff8906;\n",
       "            text-align: center;\n",
       "            margin-bottom: 20px;\n",
       "            font-size: 24px;\n",
       "            font-weight: 600;\n",
       "            letter-spacing: 1.5px;\n",
       "            text-shadow: 2px 2px 4px rgba(0,0,0,0.3);\n",
       "        }\n",
       "        .graph-svg {\n",
       "            width: 100%;\n",
       "            height: auto;\n",
       "            display: flex;\n",
       "            justify-content: center;\n",
       "            align-items: center;\n",
       "        }\n",
       "        .graph-svg svg {\n",
       "            max-width: 100%;\n",
       "            height: auto;\n",
       "            background-color: #fffffe;\n",
       "            border-radius: 10px;\n",
       "            padding: 15px;\n",
       "            box-shadow: 0 5px 15px rgba(0, 0, 0, 0.1);\n",
       "        }\n",
       "    </style>\n",
       "    <div class=\"graph-container\"><div class=\"graph-item\"><div class=\"graph-title\">Top 1 KTG</div><div class=\"graph-svg\"><?xml version=\"1.0\" encoding=\"UTF-8\" standalone=\"no\"?>\n",
       "<!DOCTYPE svg PUBLIC \"-//W3C//DTD SVG 1.1//EN\"\n",
       " \"http://www.w3.org/Graphics/SVG/1.1/DTD/svg11.dtd\">\n",
       "<!-- Generated by graphviz version 2.40.1 (20161225.0304)\n",
       " -->\n",
       "<!-- Title: %3 Pages: 1 -->\n",
       "<svg width=\"332pt\" height=\"216pt\"\n",
       " viewBox=\"0.00 0.00 331.79 216.00\" xmlns=\"http://www.w3.org/2000/svg\" xmlns:xlink=\"http://www.w3.org/1999/xlink\">\n",
       "<g id=\"graph0\" class=\"graph\" transform=\"scale(1 1) rotate(0) translate(4 212)\">\n",
       "<title>%3</title>\n",
       "<polygon fill=\"#ffffff\" stroke=\"transparent\" points=\"-4,4 -4,-212 327.7935,-212 327.7935,4 -4,4\"/>\n",
       "<!-- 1. DeiT_Tiny (42.24%) -->\n",
       "<g id=\"node1\" class=\"node\">\n",
       "<title>1. DeiT_Tiny (42.24%)</title>\n",
       "<ellipse fill=\"#ffc0cb\" stroke=\"#ffc0cb\" cx=\"205.3968\" cy=\"-104\" rx=\"114.2798\" ry=\"18\"/>\n",
       "<text text-anchor=\"middle\" x=\"205.3968\" y=\"-100.3\" font-family=\"Times,serif\" font-size=\"14.00\" fill=\"#000000\">1. DeiT_Tiny (42.24%)</text>\n",
       "</g>\n",
       "<!-- 3. WRN28_2 (41.38%) -->\n",
       "<g id=\"node3\" class=\"node\">\n",
       "<title>3. WRN28_2 (41.38%)</title>\n",
       "<ellipse fill=\"#e5e5e5\" stroke=\"#e5e5e5\" cx=\"140.3968\" cy=\"-18\" rx=\"114.2798\" ry=\"18\"/>\n",
       "<text text-anchor=\"middle\" x=\"140.3968\" y=\"-14.3\" font-family=\"Times,serif\" font-size=\"14.00\" fill=\"#000000\">3. WRN28_2 (41.38%)</text>\n",
       "</g>\n",
       "<!-- 1. DeiT_Tiny (42.24%)&#45;&gt;3. WRN28_2 (41.38%) -->\n",
       "<g id=\"edge4\" class=\"edge\">\n",
       "<title>1. DeiT_Tiny (42.24%)&#45;&gt;3. WRN28_2 (41.38%)</title>\n",
       "<path fill=\"none\" stroke=\"#1b9e77\" d=\"M157.8513,-87.5009C149.6977,-82.5124 142.2887,-76.1251 137.3968,-68 133.5553,-61.6197 132.6198,-53.9127 133.0759,-46.4805\"/>\n",
       "<polygon fill=\"#1b9e77\" stroke=\"#1b9e77\" points=\"136.5775,-46.7109 134.4893,-36.3239 129.6443,-45.746 136.5775,-46.7109\"/>\n",
       "<text text-anchor=\"middle\" x=\"158.3968\" y=\"-57.6\" font-family=\"Times,serif\" font-size=\"13.00\" fill=\"#1b9e77\">Linear</text>\n",
       "</g>\n",
       "<!-- 2. WRN28_2 (74.7%) -->\n",
       "<g id=\"node2\" class=\"node\">\n",
       "<title>2. WRN28_2 (74.7%)</title>\n",
       "<ellipse fill=\"#add8e6\" stroke=\"#add8e6\" cx=\"124.3968\" cy=\"-190\" rx=\"108.5808\" ry=\"18\"/>\n",
       "<text text-anchor=\"middle\" x=\"124.3968\" y=\"-186.3\" font-family=\"Times,serif\" font-size=\"14.00\" fill=\"#000000\">2. WRN28_2 (74.7%)</text>\n",
       "</g>\n",
       "<!-- 2. WRN28_2 (74.7%)&#45;&gt;1. DeiT_Tiny (42.24%) -->\n",
       "<g id=\"edge2\" class=\"edge\">\n",
       "<title>2. WRN28_2 (74.7%)&#45;&gt;1. DeiT_Tiny (42.24%)</title>\n",
       "<path fill=\"none\" stroke=\"#d95f02\" d=\"M141.18,-172.1807C152.8313,-159.8103 168.526,-143.1467 181.4828,-129.3901\"/>\n",
       "<polygon fill=\"#d95f02\" stroke=\"#d95f02\" points=\"184.0479,-131.7716 188.3563,-122.0923 178.9522,-126.9721 184.0479,-131.7716\"/>\n",
       "<text text-anchor=\"middle\" x=\"195.3968\" y=\"-143.6\" font-family=\"Times,serif\" font-size=\"13.00\" fill=\"#d95f02\">Correct</text>\n",
       "</g>\n",
       "<!-- 3. WRN28_2 (41.38%)&#45;&gt;1. DeiT_Tiny (42.24%) -->\n",
       "<g id=\"edge3\" class=\"edge\">\n",
       "<title>3. WRN28_2 (41.38%)&#45;&gt;1. DeiT_Tiny (42.24%)</title>\n",
       "<path fill=\"none\" stroke=\"#4682b4\" d=\"M165.4471,-35.684C171.866,-41.0451 178.3686,-47.3047 183.3968,-54 188.4422,-60.7183 192.6304,-68.7748 195.9503,-76.4387\"/>\n",
       "<polygon fill=\"#4682b4\" stroke=\"#4682b4\" points=\"192.7317,-77.8167 199.6903,-85.806 199.2327,-75.2211 192.7317,-77.8167\"/>\n",
       "<text text-anchor=\"middle\" x=\"242.3968\" y=\"-57.6\" font-family=\"Times,serif\" font-size=\"13.00\" fill=\"#4682b4\">NegativeLinear</text>\n",
       "</g>\n",
       "<!-- 0 -->\n",
       "<g id=\"node4\" class=\"node\">\n",
       "<title>0</title>\n",
       "<ellipse fill=\"#ffffff\" stroke=\"#ffffff\" cx=\"287.3968\" cy=\"-190\" rx=\"36.2938\" ry=\"18\"/>\n",
       "<text text-anchor=\"middle\" x=\"287.3968\" y=\"-186.3\" font-family=\"Times,serif\" font-size=\"14.00\" fill=\"#000000\">Label</text>\n",
       "</g>\n",
       "<!-- 0&#45;&gt;1. DeiT_Tiny (42.24%) -->\n",
       "<g id=\"edge1\" class=\"edge\">\n",
       "<title>0&#45;&gt;1. DeiT_Tiny (42.24%)</title>\n",
       "<path fill=\"none\" stroke=\"#7570b3\" d=\"M271.5863,-173.4183C259.7275,-160.981 243.2782,-143.7294 229.745,-129.5359\"/>\n",
       "<polygon fill=\"#7570b3\" stroke=\"#7570b3\" points=\"232.008,-126.8374 222.5742,-122.0153 226.9419,-131.668 232.008,-126.8374\"/>\n",
       "<text text-anchor=\"middle\" x=\"277.8968\" y=\"-143.6\" font-family=\"Times,serif\" font-size=\"13.00\" fill=\"#7570b3\">Through</text>\n",
       "</g>\n",
       "<!-- 2 -->\n",
       "<g id=\"node5\" class=\"node\">\n",
       "<title>2</title>\n",
       "<ellipse fill=\"#ffffff\" stroke=\"#ffffff\" cx=\"36.3968\" cy=\"-104\" rx=\"36.2938\" ry=\"18\"/>\n",
       "<text text-anchor=\"middle\" x=\"36.3968\" y=\"-100.3\" font-family=\"Times,serif\" font-size=\"14.00\" fill=\"#000000\">Label</text>\n",
       "</g>\n",
       "<!-- 2&#45;&gt;3. WRN28_2 (41.38%) -->\n",
       "<g id=\"edge5\" class=\"edge\">\n",
       "<title>2&#45;&gt;3. WRN28_2 (41.38%)</title>\n",
       "<path fill=\"none\" stroke=\"#1b9e77\" d=\"M51.7882,-87.4697C61.5692,-77.3383 74.7327,-64.3689 87.3968,-54 92.6588,-49.6916 98.4305,-45.3877 104.1683,-41.3319\"/>\n",
       "<polygon fill=\"#1b9e77\" stroke=\"#1b9e77\" points=\"106.2415,-44.1538 112.4872,-35.5956 102.2678,-38.391 106.2415,-44.1538\"/>\n",
       "<text text-anchor=\"middle\" x=\"108.3968\" y=\"-57.6\" font-family=\"Times,serif\" font-size=\"13.00\" fill=\"#1b9e77\">Linear</text>\n",
       "</g>\n",
       "</g>\n",
       "</svg>\n",
       "</div></div></div>"
      ],
      "text/plain": [
       "<IPython.core.display.HTML object>"
      ]
     },
     "metadata": {},
     "output_type": "display_data"
    }
   ],
   "source": [
    "from IPython.display import display, HTML\n",
    "from graphviz import Source\n",
    "\n",
    "def display_multiple_graphs(params, sorted_df, model_acc, sorted_acc, num_graphs=3):\n",
    "    graphs = []\n",
    "    for top in range(num_graphs):\n",
    "        graph = generate_graph(params, sorted_df, model_acc, sorted_acc, top=top)\n",
    "        graphs.append(graph)\n",
    "\n",
    "    # CSS styles with adjustments for full graph visibility\n",
    "    styles = \"\"\"\n",
    "    <style>\n",
    "        @import url('https://fonts.googleapis.com/css2?family=Poppins:wght@300;400;600&display=swap');\n",
    "\n",
    "        body {\n",
    "            background-color: #0f0e17;\n",
    "            color: #fffffe;\n",
    "            font-family: 'Poppins', sans-serif;\n",
    "        }\n",
    "        .graph-container {\n",
    "            display: grid;\n",
    "            grid-template-columns: repeat(auto-fit, minmax(400px, 1fr));\n",
    "            gap: 40px;\n",
    "            padding: 40px;\n",
    "            background: linear-gradient(135deg, #0f0e17 0%, #232946 100%);\n",
    "            border-radius: 20px;\n",
    "            box-shadow: 0 20px 40px rgba(0, 0, 0, 0.4);\n",
    "        }\n",
    "        .graph-item {\n",
    "            background: linear-gradient(45deg, #232946, #2e3a5c);\n",
    "            border-radius: 15px;\n",
    "            box-shadow: 0 10px 20px rgba(0, 0, 0, 0.2);\n",
    "            padding: 25px;\n",
    "            transition: all 0.4s cubic-bezier(0.175, 0.885, 0.32, 1.275);\n",
    "            border: 2px solid #4a4e69;\n",
    "            overflow: hidden;\n",
    "            position: relative;\n",
    "        }\n",
    "        .graph-item::before {\n",
    "            content: '';\n",
    "            position: absolute;\n",
    "            top: -50%;\n",
    "            left: -50%;\n",
    "            width: 200%;\n",
    "            height: 200%;\n",
    "            background: radial-gradient(circle, rgba(255,255,255,0.1) 0%, rgba(255,255,255,0) 70%);\n",
    "            transform: scale(0);\n",
    "            transition: transform 0.6s ease-out;\n",
    "        }\n",
    "        .graph-item:hover {\n",
    "            transform: translateY(-15px) scale(1.03);\n",
    "            box-shadow: 0 15px 30px rgba(0, 0, 0, 0.3);\n",
    "            border-color: #ff8906;\n",
    "        }\n",
    "        .graph-item:hover::before {\n",
    "            transform: scale(1);\n",
    "        }\n",
    "        .graph-title {\n",
    "            font-family: 'Poppins', sans-serif;\n",
    "            color: #ff8906;\n",
    "            text-align: center;\n",
    "            margin-bottom: 20px;\n",
    "            font-size: 24px;\n",
    "            font-weight: 600;\n",
    "            letter-spacing: 1.5px;\n",
    "            text-shadow: 2px 2px 4px rgba(0,0,0,0.3);\n",
    "        }\n",
    "        .graph-svg {\n",
    "            width: 100%;\n",
    "            height: auto;\n",
    "            display: flex;\n",
    "            justify-content: center;\n",
    "            align-items: center;\n",
    "        }\n",
    "        .graph-svg svg {\n",
    "            max-width: 100%;\n",
    "            height: auto;\n",
    "            background-color: #fffffe;\n",
    "            border-radius: 10px;\n",
    "            padding: 15px;\n",
    "            box-shadow: 0 5px 15px rgba(0, 0, 0, 0.1);\n",
    "        }\n",
    "    </style>\n",
    "    \"\"\"\n",
    "\n",
    "    html_content = styles + '<div class=\"graph-container\">'\n",
    "    for i, graph in enumerate(graphs):\n",
    "        svg_content = Source(graph.source).pipe(format='svg').decode('utf-8')\n",
    "        svg_content = svg_content.replace('width=\"0\"', '').replace('height=\"0\"', '')\n",
    "        html_content += f'<div class=\"graph-item\">'\n",
    "        html_content += f'<div class=\"graph-title\">Top {i+1} KTG</div>'\n",
    "        html_content += f'<div class=\"graph-svg\">{svg_content}</div>'\n",
    "        html_content += '</div>'\n",
    "    html_content += '</div>'\n",
    "\n",
    "    display(HTML(html_content))\n",
    "\n",
    "display_multiple_graphs(params, sorted_df, model_acc, sorted_acc, num_graphs=len(sorted_df))"
   ]
  },
  {
   "cell_type": "code",
   "execution_count": null,
   "metadata": {},
   "outputs": [],
   "source": []
  },
  {
   "cell_type": "code",
   "execution_count": null,
   "metadata": {},
   "outputs": [],
   "source": []
  },
  {
   "cell_type": "code",
   "execution_count": null,
   "metadata": {},
   "outputs": [],
   "source": []
  }
 ],
 "metadata": {
  "kernelspec": {
   "display_name": "Python 3",
   "language": "python",
   "name": "python3"
  },
  "language_info": {
   "codemirror_mode": {
    "name": "ipython",
    "version": 3
   },
   "file_extension": ".py",
   "mimetype": "text/x-python",
   "name": "python",
   "nbconvert_exporter": "python",
   "pygments_lexer": "ipython3",
   "version": "3.7.13"
  }
 },
 "nbformat": 4,
 "nbformat_minor": 2
}
